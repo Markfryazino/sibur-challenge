{
 "cells": [
  {
   "cell_type": "code",
   "execution_count": 1,
   "metadata": {
    "ExecuteTime": {
     "end_time": "2019-10-23T14:49:14.701543Z",
     "start_time": "2019-10-23T14:49:13.686425Z"
    }
   },
   "outputs": [
    {
     "name": "stdout",
     "output_type": "stream",
     "text": [
      "Populating the interactive namespace from numpy and matplotlib\n"
     ]
    }
   ],
   "source": [
    "%pylab inline\n",
    "plt.style.use(\"bmh\")"
   ]
  },
  {
   "cell_type": "code",
   "execution_count": 2,
   "metadata": {
    "ExecuteTime": {
     "end_time": "2019-10-23T14:49:14.714127Z",
     "start_time": "2019-10-23T14:49:14.707313Z"
    }
   },
   "outputs": [],
   "source": [
    "plt.rcParams[\"figure.figsize\"] = (6,6)"
   ]
  },
  {
   "cell_type": "code",
   "execution_count": 3,
   "metadata": {
    "ExecuteTime": {
     "end_time": "2019-10-23T14:49:15.672941Z",
     "start_time": "2019-10-23T14:49:14.721624Z"
    }
   },
   "outputs": [],
   "source": [
    "import io\n",
    "import pandas as pd\n",
    "import requests\n",
    "import tqdm"
   ]
  },
  {
   "cell_type": "markdown",
   "metadata": {},
   "source": [
    "# Погода: источники\n",
    "\n",
    "Для получения погодных данных будет использовать API NOAA (National Centers for Environmental Information). Через этот API можно удобно получить данные сети Global Historical Climatology Network. GHCN агрегирует данные с наземных метеостанций.\n",
    "\n",
    "При запросе к API NOAA необходимо указать:\n",
    "\n",
    "\n",
    "- **набор данных**, в данном случае - `daily-summaries`\n",
    "- **список станций**,\n",
    "- **тип данных**, которые запрашиваются (мы будем использовать температуру и осадки).\n",
    "\n",
    "Более подробную информацию об API можно получить на странице [NOAA](https://www.ncei.noaa.gov/support/access-data-service-api-user-documentation).\n",
    "\n",
    "Выберем по одной станции для Вьетнама, Индонезии и Таиланда (для задачи о прогнозе котировок каучука).\n",
    "\n",
    "На странице [Data Tools: Find a Station](https://www.ncdc.noaa.gov/cdo-web/datatools/findstation) можно выбрать больше станций. Не для всех из них могут быть доступны необходимые данные, поэтому фильтруйте набор данных (`Select Dataset`), временной промежуток и типы данных (`Data Categories`).\n",
    "\n",
    "Эти данные вы можете использовать во всех задачах, включая промышленные. Если вы добавляете только переменные или набор данных, то сообщать в чате об этом не нужно."
   ]
  },
  {
   "cell_type": "code",
   "execution_count": 4,
   "metadata": {
    "ExecuteTime": {
     "end_time": "2019-10-23T14:49:15.687761Z",
     "start_time": "2019-10-23T14:49:15.678484Z"
    }
   },
   "outputs": [],
   "source": [
    "BASE_URL = \"https://www.ncei.noaa.gov/access/services/data/v1\"\n",
    "\n",
    "STATIONS = [\"IDM00096087\", \"VMM00048914\", \"TH000048426\"]\n",
    "STATIONS_QUERY = f'stations={\",\".join(STATIONS)}'\n",
    "\n",
    "DATA_TYPES = [\"TAVG\", \"TMAX\", \"TMIN\", \"PRCP\"]\n",
    "DATA_TYPES_QUERY = f'dataTypes={\",\".join(DATA_TYPES)}'\n",
    "\n",
    "START = \"2002-01-01\"\n",
    "END = \"2019-08-01\"\n",
    "\n",
    "BASE_PARAMS = [\"units=metric\",\n",
    "               \"dataset=daily-summaries\",\n",
    "               f\"startDate={START}\",\n",
    "               f\"endDate={END}\",               \n",
    "               STATIONS_QUERY,\n",
    "               DATA_TYPES_QUERY]"
   ]
  },
  {
   "cell_type": "code",
   "execution_count": 5,
   "metadata": {
    "ExecuteTime": {
     "end_time": "2019-10-23T14:49:21.143423Z",
     "start_time": "2019-10-23T14:49:15.693588Z"
    }
   },
   "outputs": [],
   "source": [
    "response = requests.get(\"?\".join([BASE_URL, \"&\".join(BASE_PARAMS)]))"
   ]
  },
  {
   "cell_type": "code",
   "execution_count": 6,
   "metadata": {
    "ExecuteTime": {
     "end_time": "2019-10-23T14:49:21.153958Z",
     "start_time": "2019-10-23T14:49:21.147557Z"
    }
   },
   "outputs": [],
   "source": [
    "assert response.status_code==200"
   ]
  },
  {
   "cell_type": "code",
   "execution_count": 7,
   "metadata": {
    "ExecuteTime": {
     "end_time": "2019-10-23T14:49:21.288233Z",
     "start_time": "2019-10-23T14:49:21.160315Z"
    }
   },
   "outputs": [],
   "source": [
    "data = pd.read_csv(io.StringIO(response.text), parse_dates=[\"DATE\"])"
   ]
  },
  {
   "cell_type": "code",
   "execution_count": 8,
   "metadata": {
    "ExecuteTime": {
     "end_time": "2019-10-23T14:49:21.349062Z",
     "start_time": "2019-10-23T14:49:21.296183Z"
    }
   },
   "outputs": [
    {
     "data": {
      "text/html": [
       "<div>\n",
       "<style scoped>\n",
       "    .dataframe tbody tr th:only-of-type {\n",
       "        vertical-align: middle;\n",
       "    }\n",
       "\n",
       "    .dataframe tbody tr th {\n",
       "        vertical-align: top;\n",
       "    }\n",
       "\n",
       "    .dataframe thead th {\n",
       "        text-align: right;\n",
       "    }\n",
       "</style>\n",
       "<table border=\"1\" class=\"dataframe\">\n",
       "  <thead>\n",
       "    <tr style=\"text-align: right;\">\n",
       "      <th></th>\n",
       "      <th>STATION</th>\n",
       "      <th>DATE</th>\n",
       "      <th>PRCP</th>\n",
       "      <th>TAVG</th>\n",
       "      <th>TMAX</th>\n",
       "      <th>TMIN</th>\n",
       "    </tr>\n",
       "  </thead>\n",
       "  <tbody>\n",
       "    <tr>\n",
       "      <th>0</th>\n",
       "      <td>IDM00096087</td>\n",
       "      <td>2002-01-01</td>\n",
       "      <td>NaN</td>\n",
       "      <td>26.3</td>\n",
       "      <td>NaN</td>\n",
       "      <td>NaN</td>\n",
       "    </tr>\n",
       "    <tr>\n",
       "      <th>1</th>\n",
       "      <td>IDM00096087</td>\n",
       "      <td>2002-01-03</td>\n",
       "      <td>NaN</td>\n",
       "      <td>27.3</td>\n",
       "      <td>30.4</td>\n",
       "      <td>23.0</td>\n",
       "    </tr>\n",
       "    <tr>\n",
       "      <th>2</th>\n",
       "      <td>IDM00096087</td>\n",
       "      <td>2002-01-04</td>\n",
       "      <td>NaN</td>\n",
       "      <td>25.9</td>\n",
       "      <td>30.2</td>\n",
       "      <td>NaN</td>\n",
       "    </tr>\n",
       "    <tr>\n",
       "      <th>3</th>\n",
       "      <td>IDM00096087</td>\n",
       "      <td>2002-01-05</td>\n",
       "      <td>NaN</td>\n",
       "      <td>27.2</td>\n",
       "      <td>30.6</td>\n",
       "      <td>25.1</td>\n",
       "    </tr>\n",
       "    <tr>\n",
       "      <th>4</th>\n",
       "      <td>IDM00096087</td>\n",
       "      <td>2002-01-06</td>\n",
       "      <td>NaN</td>\n",
       "      <td>27.1</td>\n",
       "      <td>30.2</td>\n",
       "      <td>25.1</td>\n",
       "    </tr>\n",
       "  </tbody>\n",
       "</table>\n",
       "</div>"
      ],
      "text/plain": [
       "       STATION       DATE  PRCP  TAVG  TMAX  TMIN\n",
       "0  IDM00096087 2002-01-01   NaN  26.3   NaN   NaN\n",
       "1  IDM00096087 2002-01-03   NaN  27.3  30.4  23.0\n",
       "2  IDM00096087 2002-01-04   NaN  25.9  30.2   NaN\n",
       "3  IDM00096087 2002-01-05   NaN  27.2  30.6  25.1\n",
       "4  IDM00096087 2002-01-06   NaN  27.1  30.2  25.1"
      ]
     },
     "execution_count": 8,
     "metadata": {},
     "output_type": "execute_result"
    }
   ],
   "source": [
    "data.head()"
   ]
  },
  {
   "cell_type": "code",
   "execution_count": 9,
   "metadata": {
    "ExecuteTime": {
     "end_time": "2019-10-23T14:49:21.401389Z",
     "start_time": "2019-10-23T14:49:21.358568Z"
    }
   },
   "outputs": [
    {
     "data": {
      "text/html": [
       "<div>\n",
       "<style scoped>\n",
       "    .dataframe tbody tr th:only-of-type {\n",
       "        vertical-align: middle;\n",
       "    }\n",
       "\n",
       "    .dataframe tbody tr th {\n",
       "        vertical-align: top;\n",
       "    }\n",
       "\n",
       "    .dataframe thead th {\n",
       "        text-align: right;\n",
       "    }\n",
       "</style>\n",
       "<table border=\"1\" class=\"dataframe\">\n",
       "  <thead>\n",
       "    <tr style=\"text-align: right;\">\n",
       "      <th></th>\n",
       "      <th>DATE</th>\n",
       "      <th>PRCP</th>\n",
       "      <th>TAVG</th>\n",
       "      <th>TMAX</th>\n",
       "      <th>TMIN</th>\n",
       "    </tr>\n",
       "    <tr>\n",
       "      <th>STATION</th>\n",
       "      <th></th>\n",
       "      <th></th>\n",
       "      <th></th>\n",
       "      <th></th>\n",
       "      <th></th>\n",
       "    </tr>\n",
       "  </thead>\n",
       "  <tbody>\n",
       "    <tr>\n",
       "      <th>IDM00096087</th>\n",
       "      <td>6235</td>\n",
       "      <td>537</td>\n",
       "      <td>6235</td>\n",
       "      <td>5012</td>\n",
       "      <td>4616</td>\n",
       "    </tr>\n",
       "    <tr>\n",
       "      <th>TH000048426</th>\n",
       "      <td>6318</td>\n",
       "      <td>3305</td>\n",
       "      <td>6318</td>\n",
       "      <td>5606</td>\n",
       "      <td>4729</td>\n",
       "    </tr>\n",
       "    <tr>\n",
       "      <th>VMM00048914</th>\n",
       "      <td>6320</td>\n",
       "      <td>6145</td>\n",
       "      <td>6320</td>\n",
       "      <td>4953</td>\n",
       "      <td>4363</td>\n",
       "    </tr>\n",
       "  </tbody>\n",
       "</table>\n",
       "</div>"
      ],
      "text/plain": [
       "             DATE  PRCP  TAVG  TMAX  TMIN\n",
       "STATION                                  \n",
       "IDM00096087  6235   537  6235  5012  4616\n",
       "TH000048426  6318  3305  6318  5606  4729\n",
       "VMM00048914  6320  6145  6320  4953  4363"
      ]
     },
     "execution_count": 9,
     "metadata": {},
     "output_type": "execute_result"
    }
   ],
   "source": [
    "data.groupby(\"STATION\").count()"
   ]
  },
  {
   "cell_type": "markdown",
   "metadata": {},
   "source": [
    "Заполняем пропуски:"
   ]
  },
  {
   "cell_type": "code",
   "execution_count": 10,
   "metadata": {
    "ExecuteTime": {
     "end_time": "2019-10-23T14:49:21.424914Z",
     "start_time": "2019-10-23T14:49:21.408986Z"
    }
   },
   "outputs": [],
   "source": [
    "data.fillna({\"PRCP\":0}, inplace=True)\n",
    "data.ffill(inplace=True)"
   ]
  },
  {
   "cell_type": "code",
   "execution_count": 12,
   "metadata": {
    "ExecuteTime": {
     "end_time": "2019-10-23T14:49:29.744401Z",
     "start_time": "2019-10-23T14:49:29.718301Z"
    }
   },
   "outputs": [
    {
     "data": {
      "text/html": [
       "<div>\n",
       "<style scoped>\n",
       "    .dataframe tbody tr th:only-of-type {\n",
       "        vertical-align: middle;\n",
       "    }\n",
       "\n",
       "    .dataframe tbody tr th {\n",
       "        vertical-align: top;\n",
       "    }\n",
       "\n",
       "    .dataframe thead th {\n",
       "        text-align: right;\n",
       "    }\n",
       "</style>\n",
       "<table border=\"1\" class=\"dataframe\">\n",
       "  <thead>\n",
       "    <tr style=\"text-align: right;\">\n",
       "      <th></th>\n",
       "      <th>STATION</th>\n",
       "      <th>DATE</th>\n",
       "      <th>PRCP</th>\n",
       "      <th>TAVG</th>\n",
       "      <th>TMAX</th>\n",
       "      <th>TMIN</th>\n",
       "    </tr>\n",
       "  </thead>\n",
       "  <tbody>\n",
       "    <tr>\n",
       "      <th>0</th>\n",
       "      <td>IDM00096087</td>\n",
       "      <td>2002-01-01</td>\n",
       "      <td>0.0</td>\n",
       "      <td>26.3</td>\n",
       "      <td>NaN</td>\n",
       "      <td>NaN</td>\n",
       "    </tr>\n",
       "    <tr>\n",
       "      <th>1</th>\n",
       "      <td>IDM00096087</td>\n",
       "      <td>2002-01-03</td>\n",
       "      <td>0.0</td>\n",
       "      <td>27.3</td>\n",
       "      <td>30.4</td>\n",
       "      <td>23.0</td>\n",
       "    </tr>\n",
       "    <tr>\n",
       "      <th>2</th>\n",
       "      <td>IDM00096087</td>\n",
       "      <td>2002-01-04</td>\n",
       "      <td>0.0</td>\n",
       "      <td>25.9</td>\n",
       "      <td>30.2</td>\n",
       "      <td>23.0</td>\n",
       "    </tr>\n",
       "    <tr>\n",
       "      <th>3</th>\n",
       "      <td>IDM00096087</td>\n",
       "      <td>2002-01-05</td>\n",
       "      <td>0.0</td>\n",
       "      <td>27.2</td>\n",
       "      <td>30.6</td>\n",
       "      <td>25.1</td>\n",
       "    </tr>\n",
       "    <tr>\n",
       "      <th>4</th>\n",
       "      <td>IDM00096087</td>\n",
       "      <td>2002-01-06</td>\n",
       "      <td>0.0</td>\n",
       "      <td>27.1</td>\n",
       "      <td>30.2</td>\n",
       "      <td>25.1</td>\n",
       "    </tr>\n",
       "  </tbody>\n",
       "</table>\n",
       "</div>"
      ],
      "text/plain": [
       "       STATION       DATE  PRCP  TAVG  TMAX  TMIN\n",
       "0  IDM00096087 2002-01-01   0.0  26.3   NaN   NaN\n",
       "1  IDM00096087 2002-01-03   0.0  27.3  30.4  23.0\n",
       "2  IDM00096087 2002-01-04   0.0  25.9  30.2  23.0\n",
       "3  IDM00096087 2002-01-05   0.0  27.2  30.6  25.1\n",
       "4  IDM00096087 2002-01-06   0.0  27.1  30.2  25.1"
      ]
     },
     "execution_count": 12,
     "metadata": {},
     "output_type": "execute_result"
    }
   ],
   "source": [
    "data.head()"
   ]
  },
  {
   "cell_type": "markdown",
   "metadata": {},
   "source": [
    "Переформатируем данные:"
   ]
  },
  {
   "cell_type": "code",
   "execution_count": 13,
   "metadata": {
    "ExecuteTime": {
     "end_time": "2019-10-23T14:49:29.762190Z",
     "start_time": "2019-10-23T14:49:29.748645Z"
    }
   },
   "outputs": [
    {
     "data": {
      "text/plain": [
       "DatetimeIndex(['2002-01-01', '2002-01-02', '2002-01-03', '2002-01-04',\n",
       "               '2002-01-05', '2002-01-06', '2002-01-07', '2002-01-08',\n",
       "               '2002-01-09', '2002-01-10',\n",
       "               ...\n",
       "               '2019-07-23', '2019-07-24', '2019-07-25', '2019-07-26',\n",
       "               '2019-07-27', '2019-07-28', '2019-07-29', '2019-07-30',\n",
       "               '2019-07-31', '2019-08-01'],\n",
       "              dtype='datetime64[ns]', length=6422, freq='D')"
      ]
     },
     "execution_count": 13,
     "metadata": {},
     "output_type": "execute_result"
    }
   ],
   "source": [
    "pd.date_range(START, END, freq=\"1D\")"
   ]
  },
  {
   "cell_type": "code",
   "execution_count": 14,
   "metadata": {
    "ExecuteTime": {
     "end_time": "2019-10-23T14:49:29.810327Z",
     "start_time": "2019-10-23T14:49:29.766832Z"
    }
   },
   "outputs": [],
   "source": [
    "full_data = []\n",
    "\n",
    "for station, station_data in data.groupby(\"STATION\"):\n",
    "    full_data.append(station_data\n",
    "                     .set_index(\"DATE\")\n",
    "                     .drop(\"STATION\", axis=1)\n",
    "                     .rename(lambda cl: f\"{cl}_{station}\", axis=1))\n",
    "\n",
    "full_data = pd.concat(full_data, axis=1)\n",
    "full_data = full_data.reindex(pd.date_range(START, END, freq=\"1D\"))"
   ]
  },
  {
   "cell_type": "code",
   "execution_count": 15,
   "metadata": {
    "ExecuteTime": {
     "end_time": "2019-10-23T14:49:29.824777Z",
     "start_time": "2019-10-23T14:49:29.815209Z"
    }
   },
   "outputs": [],
   "source": [
    "full_data.fillna({cl:0 for cl in full_data.columns if \"PRCP\" in cl}, inplace=True)\n",
    "full_data.ffill(inplace=True)"
   ]
  },
  {
   "cell_type": "markdown",
   "metadata": {
    "ExecuteTime": {
     "end_time": "2019-10-23T14:36:08.191082Z",
     "start_time": "2019-10-23T14:36:08.183282Z"
    }
   },
   "source": [
    "# Погода: признаки\n",
    "\n",
    "Признаки для погоды можно построить точно так же, как и другие в задачах о каучуке и ПЭТФ, но добавим `sum` (для осадков этот показатель может быть важен)."
   ]
  },
  {
   "cell_type": "code",
   "execution_count": 16,
   "metadata": {
    "ExecuteTime": {
     "end_time": "2019-10-23T14:49:29.847333Z",
     "start_time": "2019-10-23T14:49:29.828906Z"
    }
   },
   "outputs": [],
   "source": [
    "PERIODS = [\"30D\", \"90D\", \"180D\"]\n",
    "AGGREGATES = [\"mean\", \"max\", \"min\", \"sum\"]"
   ]
  },
  {
   "cell_type": "code",
   "execution_count": 17,
   "metadata": {
    "ExecuteTime": {
     "end_time": "2019-10-23T14:49:30.118640Z",
     "start_time": "2019-10-23T14:49:29.851561Z"
    }
   },
   "outputs": [
    {
     "data": {
      "application/vnd.jupyter.widget-view+json": {
       "model_id": "5740432f4a864b709b18979d45015266",
       "version_major": 2,
       "version_minor": 0
      },
      "text/plain": [
       "HBox(children=(IntProgress(value=0, max=3), HTML(value='')))"
      ]
     },
     "metadata": {},
     "output_type": "display_data"
    },
    {
     "name": "stdout",
     "output_type": "stream",
     "text": [
      "\n"
     ]
    }
   ],
   "source": [
    "all_features = []\n",
    "\n",
    "for period in tqdm.tqdm_notebook(PERIODS):\n",
    "    for agg in AGGREGATES:\n",
    "        rolling_features = full_data.rolling(period).aggregate(agg)\n",
    "        rolling_features.rename(lambda x: \"_\".join([x, period, agg]), axis=1, inplace=True)\n",
    "        all_features.append(rolling_features[rolling_features.index.day==9])\n",
    "all_features = pd.concat(all_features, axis=1)"
   ]
  },
  {
   "cell_type": "markdown",
   "metadata": {},
   "source": [
    "Для ПЭТФ и других задач вычисление будет немного отличаться, но смысл вы поняли:)"
   ]
  },
  {
   "cell_type": "code",
   "execution_count": 18,
   "metadata": {
    "ExecuteTime": {
     "end_time": "2019-10-23T14:49:30.140143Z",
     "start_time": "2019-10-23T14:49:30.124983Z"
    }
   },
   "outputs": [],
   "source": [
    "all_features = all_features[[cl for cl in all_features.columns if \"_sum\" not in cl or \"PRCP\" in cl]]"
   ]
  },
  {
   "cell_type": "code",
   "execution_count": 19,
   "metadata": {
    "ExecuteTime": {
     "end_time": "2019-10-23T14:49:30.267740Z",
     "start_time": "2019-10-23T14:49:30.148105Z"
    }
   },
   "outputs": [],
   "source": [
    "all_features[\"prediction_date\"] = (all_features.index\n",
    "                                   + pd.TimedeltaIndex(all_features.index.days_in_month-8,\n",
    "                                                       unit=\"D\"))\n",
    "all_features.index.name = \"date\""
   ]
  },
  {
   "cell_type": "markdown",
   "metadata": {
    "ExecuteTime": {
     "end_time": "2019-10-23T14:42:01.118874Z",
     "start_time": "2019-10-23T14:42:01.106365Z"
    }
   },
   "source": [
    "Теперь эти данные можно добавить к исходным рыночным признакам:"
   ]
  },
  {
   "cell_type": "code",
   "execution_count": 20,
   "metadata": {
    "ExecuteTime": {
     "end_time": "2019-10-23T14:49:30.412470Z",
     "start_time": "2019-10-23T14:49:30.277095Z"
    }
   },
   "outputs": [],
   "source": [
    "all_features.to_csv(\"rubber_weather.csv\")"
   ]
  },
  {
   "cell_type": "markdown",
   "metadata": {
    "ExecuteTime": {
     "end_time": "2019-10-23T14:42:17.743868Z",
     "start_time": "2019-10-23T14:42:17.737476Z"
    }
   },
   "source": [
    "Несколько подсказок:\n",
    "    \n",
    "- использование **нескольких погодных станций** может помочь,\n",
    "- **температура помогает в задаче о прогнозе котировок каучука**, а вот насколько важны осадки и другие показатели - предстоит выяснить вам. В других задачах погодные данные также могут помочь,\n",
    "- вы можете подобрать погодные станции **ближе к предполагаемому месту**, в котором происходят важные для соответствующей задачи процессы. Но вам придется самостоятельно выяснить ориентировочные координаты. Например, для задачи о прогнозе котировок каучука важно знать, где растут каучуконосные растерия."
   ]
  },
  {
   "cell_type": "markdown",
   "metadata": {},
   "source": [
    "# Данные о производстве, площадях произрастания и т.д.\n",
    "\n",
    "Натуральный каучук является сельскохозяйственным продуктом. Его выпуск зависит не только от погоды, но и от площади посевов, интенсивности использования и многих других факторов.\n",
    "\n",
    "Соответствующая информация содержится на порталах открытых данных [Малайзии](http://www.data.gov.my/data/en_US/dataset/), [Индонезии](https://data.go.id/dataset) и [Таиланда](https://data.go.th/). К сожалению, данные не всегда отформатированы качественно и большую часть из них придется привести к подходящему виду вручную. Кроме того, в некоторых случаях описание данных не соответствует содержимому. Что же, придется покопаться:)\n",
    "\n",
    "Мы бы советовали обратить внимание на следующие (и аналогичные) наборы данных:\n",
    "\n",
    "- [MALAYSIA : AREA REPLANTED WITH RUBBER](http://www.data.gov.my/data/en_US/dataset/malaysia-area-replanted-with-rubber),\n",
    "- [INDONESIA AND THAILAND : AREA AND PRODUCTION OF NATURAL RUBBER](http://www.data.gov.my/data/ms_MY/dataset/indonesia-and-thailand-area-and-production-of-natural-rubber-2017)."
   ]
  },
  {
   "cell_type": "code",
   "execution_count": null,
   "metadata": {},
   "outputs": [],
   "source": []
  }
 ],
 "metadata": {
  "@webio": {
   "lastCommId": null,
   "lastKernelId": null
  },
  "kernelspec": {
   "display_name": "Python 3",
   "language": "python",
   "name": "python3"
  },
  "language_info": {
   "codemirror_mode": {
    "name": "ipython",
    "version": 3
   },
   "file_extension": ".py",
   "mimetype": "text/x-python",
   "name": "python",
   "nbconvert_exporter": "python",
   "pygments_lexer": "ipython3",
   "version": "3.7.3"
  },
  "toc": {
   "base_numbering": 1,
   "nav_menu": {},
   "number_sections": true,
   "sideBar": true,
   "skip_h1_title": false,
   "title_cell": "Table of Contents",
   "title_sidebar": "Contents",
   "toc_cell": false,
   "toc_position": {},
   "toc_section_display": true,
   "toc_window_display": false
  }
 },
 "nbformat": 4,
 "nbformat_minor": 2
}
