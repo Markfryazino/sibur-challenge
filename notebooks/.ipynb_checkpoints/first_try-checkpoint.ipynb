{
 "cells": [
  {
   "cell_type": "code",
   "execution_count": 1,
   "metadata": {},
   "outputs": [],
   "source": [
    "import numpy as np\n",
    "import pandas as pd\n",
    "import matplotlib.pyplot as plt\n",
    "import seaborn as sns\n",
    "sns.set()"
   ]
  },
  {
   "cell_type": "code",
   "execution_count": 2,
   "metadata": {},
   "outputs": [],
   "source": [
    "PATH = '../data/'\n",
    "train_target = pd.read_csv(PATH + 'rubber_target_train.csv', index_col='date', parse_dates=['date'])\n",
    "test_target = pd.read_csv(PATH + 'rubber_test_timestamps.csv', index_col='date', parse_dates=['date'])\n",
    "data = pd.read_csv(PATH + 'rubber_daily.csv', index_col='date', parse_dates=['date'])"
   ]
  },
  {
   "cell_type": "code",
   "execution_count": 4,
   "metadata": {},
   "outputs": [
    {
     "data": {
      "text/plain": [
       "Index(['brent_close', 'brent_open', 'brent_max', 'brent_min', 'USDCNY_close',\n",
       "       'USDCNY_open', 'USDCNY_max', 'USDCNY_min', 'USDTHB_mid', 'USDTHB_max',\n",
       "       'USDTHB_min', 'USDTHB_open', 'USDIDR_mid', 'USDIDR_max', 'USDIDR_min',\n",
       "       'USDIDR_open', 'USDVND_mid', 'USDVND_max', 'USDVND_min', 'USDVND_open',\n",
       "       'rubber_close'],\n",
       "      dtype='object')"
      ]
     },
     "execution_count": 4,
     "metadata": {},
     "output_type": "execute_result"
    }
   ],
   "source": [
    "data.columns"
   ]
  },
  {
   "cell_type": "code",
   "execution_count": 7,
   "metadata": {},
   "outputs": [
    {
     "data": {
      "text/plain": [
       "count                     161\n",
       "unique                    161\n",
       "top       2009-09-01 00:00:00\n",
       "freq                        1\n",
       "first     2002-08-01 00:00:00\n",
       "last      2015-12-01 00:00:00\n",
       "Name: date, dtype: object"
      ]
     },
     "execution_count": 7,
     "metadata": {},
     "output_type": "execute_result"
    }
   ],
   "source": [
    "pd.Series(train_target.index).describe()"
   ]
  },
  {
   "cell_type": "code",
   "execution_count": 8,
   "metadata": {},
   "outputs": [
    {
     "data": {
      "text/plain": [
       "count                    4221\n",
       "unique                   4221\n",
       "top       2007-09-10 00:00:00\n",
       "freq                        1\n",
       "first     2002-07-01 00:00:00\n",
       "last      2019-06-28 00:00:00\n",
       "Name: date, dtype: object"
      ]
     },
     "execution_count": 8,
     "metadata": {},
     "output_type": "execute_result"
    }
   ],
   "source": [
    "pd.Series(data.index).describe()"
   ]
  },
  {
   "cell_type": "code",
   "execution_count": 10,
   "metadata": {},
   "outputs": [
    {
     "data": {
      "image/png": "[encoded data removed]",
      "text/plain": [
       "<Figure size 432x288 with 1 Axes>"
      ]
     },
     "metadata": {
      "needs_background": "light"
     },
     "output_type": "display_data"
    }
   ],
   "source": [
    "plt.plot(train_target.index.values, train_target.values)\n",
    "plt.show()"
   ]
  },
  {
   "cell_type": "code",
   "execution_count": 37,
   "metadata": {},
   "outputs": [],
   "source": [
    "bla = pd.Series(data.index)\n",
    "for i in range(1, data.shape[0]):\n",
    "    bla[i] = bla[i - 1] + pd.Timedelta(days=1)"
   ]
  },
  {
   "cell_type": "code",
   "execution_count": 49,
   "metadata": {},
   "outputs": [
    {
     "data": {
      "text/plain": [
       "(array([   5,    6,    7, ..., 4218, 4219, 4220]),)"
      ]
     },
     "execution_count": 49,
     "metadata": {},
     "output_type": "execute_result"
    }
   ],
   "source": [
    "gf = bla != pd.Series(data.index)\n",
    "np.where(gf.values)"
   ]
  },
  {
   "cell_type": "code",
   "execution_count": 50,
   "metadata": {},
   "outputs": [
    {
     "data": {
      "text/plain": [
       "DatetimeIndex(['2002-07-01', '2002-07-02', '2002-07-03', '2002-07-04',\n",
       "               '2002-07-05', '2002-07-08', '2002-07-09', '2002-07-10',\n",
       "               '2002-07-11', '2002-07-12',\n",
       "               ...\n",
       "               '2019-06-17', '2019-06-18', '2019-06-19', '2019-06-20',\n",
       "               '2019-06-21', '2019-06-24', '2019-06-25', '2019-06-26',\n",
       "               '2019-06-27', '2019-06-28'],\n",
       "              dtype='datetime64[ns]', name='date', length=4221, freq=None)"
      ]
     },
     "execution_count": 50,
     "metadata": {},
     "output_type": "execute_result"
    }
   ],
   "source": [
    "data.index"
   ]
  }
 ],
 "metadata": {
  "kernelspec": {
   "display_name": "Python 3",
   "language": "python",
   "name": "python3"
  },
  "language_info": {
   "codemirror_mode": {
    "name": "ipython",
    "version": 3
   },
   "file_extension": ".py",
   "mimetype": "text/x-python",
   "name": "python",
   "nbconvert_exporter": "python",
   "pygments_lexer": "ipython3",
   "version": "3.7.3"
  }
 },
 "nbformat": 4,
 "nbformat_minor": 2
}
