{
 "cells": [
  {
   "cell_type": "code",
   "execution_count": 126,
   "metadata": {
    "ExecuteTime": {
     "end_time": "2019-10-14T03:11:53.916714Z",
     "start_time": "2019-10-14T03:11:53.903793Z"
    }
   },
   "outputs": [
    {
     "name": "stdout",
     "output_type": "stream",
     "text": [
      "Populating the interactive namespace from numpy and matplotlib\n"
     ]
    }
   ],
   "source": [
    "%pylab inline\n",
    "plt.style.use(\"bmh\")"
   ]
  },
  {
   "cell_type": "code",
   "execution_count": 127,
   "metadata": {
    "ExecuteTime": {
     "end_time": "2019-10-14T03:11:53.933673Z",
     "start_time": "2019-10-14T03:11:53.924362Z"
    }
   },
   "outputs": [],
   "source": [
    "plt.rcParams[\"figure.figsize\"] = (6,6)"
   ]
  },
  {
   "cell_type": "code",
   "execution_count": 128,
   "metadata": {
    "ExecuteTime": {
     "end_time": "2019-10-14T03:11:53.949742Z",
     "start_time": "2019-10-14T03:11:53.942882Z"
    }
   },
   "outputs": [],
   "source": [
    "import numpy as np\n",
    "import pandas as pd"
   ]
  },
  {
   "cell_type": "code",
   "execution_count": 129,
   "metadata": {
    "ExecuteTime": {
     "end_time": "2019-10-14T03:11:53.963624Z",
     "start_time": "2019-10-14T03:11:53.957879Z"
    }
   },
   "outputs": [],
   "source": [
    "import tqdm\n",
    "import pathlib"
   ]
  },
  {
   "cell_type": "code",
   "execution_count": 130,
   "metadata": {
    "ExecuteTime": {
     "end_time": "2019-10-14T03:11:53.980964Z",
     "start_time": "2019-10-14T03:11:53.969447Z"
    }
   },
   "outputs": [],
   "source": [
    "from sklearn.linear_model import ElasticNet\n",
    "from sklearn.ensemble import RandomForestRegressor\n",
    "from sklearn.preprocessing import StandardScaler\n",
    "from sklearn.model_selection import ParameterGrid"
   ]
  },
  {
   "cell_type": "code",
   "execution_count": 131,
   "metadata": {
    "ExecuteTime": {
     "end_time": "2019-10-14T03:11:53.995165Z",
     "start_time": "2019-10-14T03:11:53.987630Z"
    }
   },
   "outputs": [],
   "source": [
    "DATA_DIR = pathlib.Path(\"./\")"
   ]
  },
  {
   "cell_type": "code",
   "execution_count": 132,
   "metadata": {
    "ExecuteTime": {
     "end_time": "2019-10-14T03:11:54.009061Z",
     "start_time": "2019-10-14T03:11:54.001748Z"
    }
   },
   "outputs": [],
   "source": [
    "RS = 289475"
   ]
  },
  {
   "cell_type": "markdown",
   "metadata": {
    "ExecuteTime": {
     "end_time": "2019-10-14T02:25:47.253507Z",
     "start_time": "2019-10-14T02:25:47.243373Z"
    }
   },
   "source": [
    "### Версии:\n",
    "\n",
    "- `numpy`: 1.16.3\n",
    "- `pandas`: 0.24.2\n",
    "- `sklearn`: 0.21.2"
   ]
  },
  {
   "cell_type": "markdown",
   "metadata": {},
   "source": [
    "# Загрузка данных"
   ]
  },
  {
   "cell_type": "code",
   "execution_count": 133,
   "metadata": {
    "ExecuteTime": {
     "end_time": "2019-10-14T03:11:54.107142Z",
     "start_time": "2019-10-14T03:11:54.018430Z"
    }
   },
   "outputs": [],
   "source": [
    "train_target = pd.read_csv(DATA_DIR.joinpath(\"pet_target_train.csv\"), index_col=\"date\", parse_dates=[\"date\"])\n",
    "test_target = pd.read_csv(DATA_DIR.joinpath(\"pet_test_timestamps.csv\"), index_col=\"date\", parse_dates=[\"date\"])\n",
    "daily = pd.read_csv(DATA_DIR.joinpath(\"pet_daily.csv\"), index_col=\"date\", parse_dates=[\"date\"])\n",
    "weekly = pd.read_csv(DATA_DIR.joinpath(\"pet_weekly.csv\"), index_col=\"date\", parse_dates=[\"date\"])"
   ]
  },
  {
   "cell_type": "code",
   "execution_count": 134,
   "metadata": {
    "ExecuteTime": {
     "end_time": "2019-10-14T03:11:54.132545Z",
     "start_time": "2019-10-14T03:11:54.113245Z"
    }
   },
   "outputs": [
    {
     "data": {
      "text/html": [
       "<div>\n",
       "<style scoped>\n",
       "    .dataframe tbody tr th:only-of-type {\n",
       "        vertical-align: middle;\n",
       "    }\n",
       "\n",
       "    .dataframe tbody tr th {\n",
       "        vertical-align: top;\n",
       "    }\n",
       "\n",
       "    .dataframe thead th {\n",
       "        text-align: right;\n",
       "    }\n",
       "</style>\n",
       "<table border=\"1\" class=\"dataframe\">\n",
       "  <thead>\n",
       "    <tr style=\"text-align: right;\">\n",
       "      <th></th>\n",
       "      <th>pet</th>\n",
       "    </tr>\n",
       "    <tr>\n",
       "      <th>date</th>\n",
       "      <th></th>\n",
       "    </tr>\n",
       "  </thead>\n",
       "  <tbody>\n",
       "    <tr>\n",
       "      <th>2004-06-01</th>\n",
       "      <td>961.25</td>\n",
       "    </tr>\n",
       "    <tr>\n",
       "      <th>2004-07-01</th>\n",
       "      <td>962.00</td>\n",
       "    </tr>\n",
       "    <tr>\n",
       "      <th>2004-08-01</th>\n",
       "      <td>1053.75</td>\n",
       "    </tr>\n",
       "    <tr>\n",
       "      <th>2004-09-01</th>\n",
       "      <td>1180.00</td>\n",
       "    </tr>\n",
       "    <tr>\n",
       "      <th>2004-10-01</th>\n",
       "      <td>1240.00</td>\n",
       "    </tr>\n",
       "  </tbody>\n",
       "</table>\n",
       "</div>"
      ],
      "text/plain": [
       "                pet\n",
       "date               \n",
       "2004-06-01   961.25\n",
       "2004-07-01   962.00\n",
       "2004-08-01  1053.75\n",
       "2004-09-01  1180.00\n",
       "2004-10-01  1240.00"
      ]
     },
     "execution_count": 134,
     "metadata": {},
     "output_type": "execute_result"
    }
   ],
   "source": [
    "target.head()"
   ]
  },
  {
   "cell_type": "code",
   "execution_count": 135,
   "metadata": {
    "ExecuteTime": {
     "end_time": "2019-10-14T03:11:54.177233Z",
     "start_time": "2019-10-14T03:11:54.136385Z"
    }
   },
   "outputs": [
    {
     "data": {
      "text/html": [
       "<div>\n",
       "<style scoped>\n",
       "    .dataframe tbody tr th:only-of-type {\n",
       "        vertical-align: middle;\n",
       "    }\n",
       "\n",
       "    .dataframe tbody tr th {\n",
       "        vertical-align: top;\n",
       "    }\n",
       "\n",
       "    .dataframe thead th {\n",
       "        text-align: right;\n",
       "    }\n",
       "</style>\n",
       "<table border=\"1\" class=\"dataframe\">\n",
       "  <thead>\n",
       "    <tr style=\"text-align: right;\">\n",
       "      <th></th>\n",
       "      <th>brent_close</th>\n",
       "      <th>brent_open</th>\n",
       "      <th>brent_max</th>\n",
       "      <th>brent_min</th>\n",
       "      <th>USDCNY_close</th>\n",
       "      <th>USDCNY_open</th>\n",
       "      <th>USDCNY_max</th>\n",
       "      <th>USDCNY_min</th>\n",
       "    </tr>\n",
       "    <tr>\n",
       "      <th>date</th>\n",
       "      <th></th>\n",
       "      <th></th>\n",
       "      <th></th>\n",
       "      <th></th>\n",
       "      <th></th>\n",
       "      <th></th>\n",
       "      <th></th>\n",
       "      <th></th>\n",
       "    </tr>\n",
       "  </thead>\n",
       "  <tbody>\n",
       "    <tr>\n",
       "      <th>2002-07-01</th>\n",
       "      <td>25.64</td>\n",
       "      <td>25.50</td>\n",
       "      <td>25.72</td>\n",
       "      <td>25.39</td>\n",
       "      <td>8.2770</td>\n",
       "      <td>8.2770</td>\n",
       "      <td>8.2770</td>\n",
       "      <td>8.2770</td>\n",
       "    </tr>\n",
       "    <tr>\n",
       "      <th>2002-07-02</th>\n",
       "      <td>25.75</td>\n",
       "      <td>25.61</td>\n",
       "      <td>25.97</td>\n",
       "      <td>25.60</td>\n",
       "      <td>8.2769</td>\n",
       "      <td>8.2769</td>\n",
       "      <td>8.2769</td>\n",
       "      <td>8.2769</td>\n",
       "    </tr>\n",
       "    <tr>\n",
       "      <th>2002-07-03</th>\n",
       "      <td>25.84</td>\n",
       "      <td>25.73</td>\n",
       "      <td>25.96</td>\n",
       "      <td>25.52</td>\n",
       "      <td>8.2768</td>\n",
       "      <td>8.2768</td>\n",
       "      <td>8.2768</td>\n",
       "      <td>8.2768</td>\n",
       "    </tr>\n",
       "    <tr>\n",
       "      <th>2002-07-04</th>\n",
       "      <td>25.55</td>\n",
       "      <td>25.88</td>\n",
       "      <td>25.94</td>\n",
       "      <td>25.50</td>\n",
       "      <td>8.2767</td>\n",
       "      <td>8.2767</td>\n",
       "      <td>8.2767</td>\n",
       "      <td>8.2767</td>\n",
       "    </tr>\n",
       "    <tr>\n",
       "      <th>2002-07-05</th>\n",
       "      <td>25.73</td>\n",
       "      <td>25.65</td>\n",
       "      <td>25.75</td>\n",
       "      <td>25.42</td>\n",
       "      <td>8.2766</td>\n",
       "      <td>8.2766</td>\n",
       "      <td>8.2766</td>\n",
       "      <td>8.2766</td>\n",
       "    </tr>\n",
       "  </tbody>\n",
       "</table>\n",
       "</div>"
      ],
      "text/plain": [
       "            brent_close  brent_open  brent_max  brent_min  USDCNY_close  \\\n",
       "date                                                                      \n",
       "2002-07-01        25.64       25.50      25.72      25.39        8.2770   \n",
       "2002-07-02        25.75       25.61      25.97      25.60        8.2769   \n",
       "2002-07-03        25.84       25.73      25.96      25.52        8.2768   \n",
       "2002-07-04        25.55       25.88      25.94      25.50        8.2767   \n",
       "2002-07-05        25.73       25.65      25.75      25.42        8.2766   \n",
       "\n",
       "            USDCNY_open  USDCNY_max  USDCNY_min  \n",
       "date                                             \n",
       "2002-07-01       8.2770      8.2770      8.2770  \n",
       "2002-07-02       8.2769      8.2769      8.2769  \n",
       "2002-07-03       8.2768      8.2768      8.2768  \n",
       "2002-07-04       8.2767      8.2767      8.2767  \n",
       "2002-07-05       8.2766      8.2766      8.2766  "
      ]
     },
     "execution_count": 135,
     "metadata": {},
     "output_type": "execute_result"
    }
   ],
   "source": [
    "daily.head()"
   ]
  },
  {
   "cell_type": "code",
   "execution_count": 136,
   "metadata": {
    "ExecuteTime": {
     "end_time": "2019-10-14T03:11:54.208232Z",
     "start_time": "2019-10-14T03:11:54.183494Z"
    }
   },
   "outputs": [
    {
     "name": "stdout",
     "output_type": "stream",
     "text": [
      "<class 'pandas.core.frame.DataFrame'>\n",
      "DatetimeIndex: 4221 entries, 2002-07-01 to 2019-06-28\n",
      "Data columns (total 8 columns):\n",
      "brent_close     4221 non-null float64\n",
      "brent_open      4221 non-null float64\n",
      "brent_max       4221 non-null float64\n",
      "brent_min       4221 non-null float64\n",
      "USDCNY_close    4221 non-null float64\n",
      "USDCNY_open     4221 non-null float64\n",
      "USDCNY_max      4221 non-null float64\n",
      "USDCNY_min      4221 non-null float64\n",
      "dtypes: float64(8)\n",
      "memory usage: 296.8 KB\n"
     ]
    }
   ],
   "source": [
    "daily.info()"
   ]
  },
  {
   "cell_type": "code",
   "execution_count": 137,
   "metadata": {
    "ExecuteTime": {
     "end_time": "2019-10-14T03:11:54.245613Z",
     "start_time": "2019-10-14T03:11:54.215323Z"
    }
   },
   "outputs": [
    {
     "data": {
      "text/html": [
       "<div>\n",
       "<style scoped>\n",
       "    .dataframe tbody tr th:only-of-type {\n",
       "        vertical-align: middle;\n",
       "    }\n",
       "\n",
       "    .dataframe tbody tr th {\n",
       "        vertical-align: top;\n",
       "    }\n",
       "\n",
       "    .dataframe thead th {\n",
       "        text-align: right;\n",
       "    }\n",
       "</style>\n",
       "<table border=\"1\" class=\"dataframe\">\n",
       "  <thead>\n",
       "    <tr style=\"text-align: right;\">\n",
       "      <th></th>\n",
       "      <th>paraxylene_CHN_USD</th>\n",
       "      <th>paraxylene_RT_USD</th>\n",
       "      <th>paraxylene_SEA_USD</th>\n",
       "      <th>pta_NEA_USD</th>\n",
       "      <th>ethylene_glycol_EU_EUR</th>\n",
       "      <th>ethylene_glycol_CHN_USD</th>\n",
       "    </tr>\n",
       "    <tr>\n",
       "      <th>date</th>\n",
       "      <th></th>\n",
       "      <th></th>\n",
       "      <th></th>\n",
       "      <th></th>\n",
       "      <th></th>\n",
       "      <th></th>\n",
       "    </tr>\n",
       "  </thead>\n",
       "  <tbody>\n",
       "    <tr>\n",
       "      <th>2004-04-30</th>\n",
       "      <td>NaN</td>\n",
       "      <td>669.0</td>\n",
       "      <td>735.0</td>\n",
       "      <td>NaN</td>\n",
       "      <td>622.5</td>\n",
       "      <td>860.0</td>\n",
       "    </tr>\n",
       "    <tr>\n",
       "      <th>2004-05-07</th>\n",
       "      <td>NaN</td>\n",
       "      <td>680.0</td>\n",
       "      <td>730.0</td>\n",
       "      <td>NaN</td>\n",
       "      <td>650.0</td>\n",
       "      <td>860.0</td>\n",
       "    </tr>\n",
       "    <tr>\n",
       "      <th>2004-05-14</th>\n",
       "      <td>NaN</td>\n",
       "      <td>664.0</td>\n",
       "      <td>720.0</td>\n",
       "      <td>NaN</td>\n",
       "      <td>650.0</td>\n",
       "      <td>857.5</td>\n",
       "    </tr>\n",
       "    <tr>\n",
       "      <th>2004-05-21</th>\n",
       "      <td>NaN</td>\n",
       "      <td>657.0</td>\n",
       "      <td>722.5</td>\n",
       "      <td>NaN</td>\n",
       "      <td>650.0</td>\n",
       "      <td>852.5</td>\n",
       "    </tr>\n",
       "    <tr>\n",
       "      <th>2004-05-28</th>\n",
       "      <td>NaN</td>\n",
       "      <td>667.5</td>\n",
       "      <td>735.0</td>\n",
       "      <td>NaN</td>\n",
       "      <td>650.0</td>\n",
       "      <td>857.5</td>\n",
       "    </tr>\n",
       "  </tbody>\n",
       "</table>\n",
       "</div>"
      ],
      "text/plain": [
       "            paraxylene_CHN_USD  paraxylene_RT_USD  paraxylene_SEA_USD  \\\n",
       "date                                                                    \n",
       "2004-04-30                 NaN              669.0               735.0   \n",
       "2004-05-07                 NaN              680.0               730.0   \n",
       "2004-05-14                 NaN              664.0               720.0   \n",
       "2004-05-21                 NaN              657.0               722.5   \n",
       "2004-05-28                 NaN              667.5               735.0   \n",
       "\n",
       "            pta_NEA_USD  ethylene_glycol_EU_EUR  ethylene_glycol_CHN_USD  \n",
       "date                                                                      \n",
       "2004-04-30          NaN                   622.5                    860.0  \n",
       "2004-05-07          NaN                   650.0                    860.0  \n",
       "2004-05-14          NaN                   650.0                    857.5  \n",
       "2004-05-21          NaN                   650.0                    852.5  \n",
       "2004-05-28          NaN                   650.0                    857.5  "
      ]
     },
     "execution_count": 137,
     "metadata": {},
     "output_type": "execute_result"
    }
   ],
   "source": [
    "weekly.head()"
   ]
  },
  {
   "cell_type": "code",
   "execution_count": 138,
   "metadata": {
    "ExecuteTime": {
     "end_time": "2019-10-14T03:11:54.270677Z",
     "start_time": "2019-10-14T03:11:54.252178Z"
    }
   },
   "outputs": [
    {
     "name": "stdout",
     "output_type": "stream",
     "text": [
      "<class 'pandas.core.frame.DataFrame'>\n",
      "DatetimeIndex: 799 entries, 2004-04-30 to 2019-08-16\n",
      "Data columns (total 6 columns):\n",
      "paraxylene_CHN_USD         744 non-null float64\n",
      "paraxylene_RT_USD          782 non-null float64\n",
      "paraxylene_SEA_USD         778 non-null float64\n",
      "pta_NEA_USD                292 non-null float64\n",
      "ethylene_glycol_EU_EUR     782 non-null float64\n",
      "ethylene_glycol_CHN_USD    767 non-null float64\n",
      "dtypes: float64(6)\n",
      "memory usage: 43.7 KB\n"
     ]
    }
   ],
   "source": [
    "weekly.info()"
   ]
  },
  {
   "cell_type": "code",
   "execution_count": 139,
   "metadata": {
    "ExecuteTime": {
     "end_time": "2019-10-14T03:11:55.308488Z",
     "start_time": "2019-10-14T03:11:54.275125Z"
    }
   },
   "outputs": [
    {
     "data": {
      "text/plain": [
       "Text(0.5, 1, 'PET prices')"
      ]
     },
     "execution_count": 139,
     "metadata": {},
     "output_type": "execute_result"
    },
    {
     "data": {
      "image/png": "[encoded data removed]",
      "text/plain": [
       "<Figure size 432x432 with 1 Axes>"
      ]
     },
     "metadata": {
      "needs_background": "light"
     },
     "output_type": "display_data"
    }
   ],
   "source": [
    "train_target[\"pet\"].plot(ax=plt.gca(), label=\"target\")\n",
    "plt.legend(loc=0)\n",
    "plt.ylabel(\"$\")\n",
    "plt.tight_layout()\n",
    "plt.title(\"PET prices\", fontsize=12)"
   ]
  },
  {
   "cell_type": "markdown",
   "metadata": {},
   "source": [
    "# Признаки"
   ]
  },
  {
   "cell_type": "markdown",
   "metadata": {},
   "source": [
    "## Дневные данные"
   ]
  },
  {
   "cell_type": "code",
   "execution_count": 140,
   "metadata": {
    "ExecuteTime": {
     "end_time": "2019-10-14T03:11:55.342071Z",
     "start_time": "2019-10-14T03:11:55.314034Z"
    }
   },
   "outputs": [],
   "source": [
    "dfts = daily.resample(\"D\").mean()\n",
    "wfts = weekly.resample(\"D\").ffill()\n",
    "fts = dfts.join(wfts)"
   ]
  },
  {
   "cell_type": "code",
   "execution_count": 141,
   "metadata": {
    "ExecuteTime": {
     "end_time": "2019-10-14T03:11:55.358251Z",
     "start_time": "2019-10-14T03:11:55.347938Z"
    }
   },
   "outputs": [],
   "source": [
    "PERIODS = [\"1D\", \"7D\", \"30D\", \"60D\", \"180D\"]\n",
    "AGGREGATES = [\"mean\", \"median\", \"std\", \"max\", \"min\"]"
   ]
  },
  {
   "cell_type": "code",
   "execution_count": 142,
   "metadata": {
    "ExecuteTime": {
     "end_time": "2019-10-14T03:11:55.877105Z",
     "start_time": "2019-10-14T03:11:55.368186Z"
    }
   },
   "outputs": [
    {
     "data": {
      "application/vnd.jupyter.widget-view+json": {
       "model_id": "e3767970f7d247718837b58d9ef8aeac",
       "version_major": 2,
       "version_minor": 0
      },
      "text/plain": [
       "HBox(children=(IntProgress(value=0, max=5), HTML(value='')))"
      ]
     },
     "metadata": {},
     "output_type": "display_data"
    },
    {
     "name": "stdout",
     "output_type": "stream",
     "text": [
      "\n"
     ]
    }
   ],
   "source": [
    "all_features = []\n",
    "\n",
    "for period in tqdm.tqdm_notebook(PERIODS):\n",
    "    for agg in AGGREGATES:\n",
    "        if agg!=\"mean\" and period==\"1D\":\n",
    "            continue\n",
    "        rolling_features = dfts.rolling(period).aggregate(agg)\n",
    "        rolling_features.rename(lambda x: \"_\".join([x, period, agg]), axis=1, inplace=True)\n",
    "        all_features.append(rolling_features[rolling_features.index.day==9])"
   ]
  },
  {
   "cell_type": "code",
   "execution_count": 143,
   "metadata": {
    "ExecuteTime": {
     "end_time": "2019-10-14T03:11:55.896326Z",
     "start_time": "2019-10-14T03:11:55.885658Z"
    }
   },
   "outputs": [],
   "source": [
    "all_features = pd.concat(all_features, axis=1)"
   ]
  },
  {
   "cell_type": "code",
   "execution_count": 144,
   "metadata": {
    "ExecuteTime": {
     "end_time": "2019-10-14T03:11:55.912829Z",
     "start_time": "2019-10-14T03:11:55.900752Z"
    }
   },
   "outputs": [],
   "source": [
    "all_features[\"prediction_date\"] = (all_features.index\n",
    "                                   + pd.TimedeltaIndex(all_features.index.days_in_month-8,\n",
    "                                                       unit=\"D\"))"
   ]
  },
  {
   "cell_type": "code",
   "execution_count": 145,
   "metadata": {
    "ExecuteTime": {
     "end_time": "2019-10-14T03:11:55.993424Z",
     "start_time": "2019-10-14T03:11:55.917837Z"
    }
   },
   "outputs": [
    {
     "data": {
      "text/html": [
       "<div>\n",
       "<style scoped>\n",
       "    .dataframe tbody tr th:only-of-type {\n",
       "        vertical-align: middle;\n",
       "    }\n",
       "\n",
       "    .dataframe tbody tr th {\n",
       "        vertical-align: top;\n",
       "    }\n",
       "\n",
       "    .dataframe thead th {\n",
       "        text-align: right;\n",
       "    }\n",
       "</style>\n",
       "<table border=\"1\" class=\"dataframe\">\n",
       "  <thead>\n",
       "    <tr style=\"text-align: right;\">\n",
       "      <th></th>\n",
       "      <th>brent_close_1D_mean</th>\n",
       "      <th>brent_open_1D_mean</th>\n",
       "      <th>brent_max_1D_mean</th>\n",
       "      <th>brent_min_1D_mean</th>\n",
       "      <th>USDCNY_close_1D_mean</th>\n",
       "      <th>USDCNY_open_1D_mean</th>\n",
       "      <th>USDCNY_max_1D_mean</th>\n",
       "      <th>USDCNY_min_1D_mean</th>\n",
       "      <th>brent_close_7D_mean</th>\n",
       "      <th>brent_open_7D_mean</th>\n",
       "      <th>...</th>\n",
       "      <th>USDCNY_min_180D_max</th>\n",
       "      <th>brent_close_180D_min</th>\n",
       "      <th>brent_open_180D_min</th>\n",
       "      <th>brent_max_180D_min</th>\n",
       "      <th>brent_min_180D_min</th>\n",
       "      <th>USDCNY_close_180D_min</th>\n",
       "      <th>USDCNY_open_180D_min</th>\n",
       "      <th>USDCNY_max_180D_min</th>\n",
       "      <th>USDCNY_min_180D_min</th>\n",
       "      <th>prediction_date</th>\n",
       "    </tr>\n",
       "    <tr>\n",
       "      <th>date</th>\n",
       "      <th></th>\n",
       "      <th></th>\n",
       "      <th></th>\n",
       "      <th></th>\n",
       "      <th></th>\n",
       "      <th></th>\n",
       "      <th></th>\n",
       "      <th></th>\n",
       "      <th></th>\n",
       "      <th></th>\n",
       "      <th></th>\n",
       "      <th></th>\n",
       "      <th></th>\n",
       "      <th></th>\n",
       "      <th></th>\n",
       "      <th></th>\n",
       "      <th></th>\n",
       "      <th></th>\n",
       "      <th></th>\n",
       "      <th></th>\n",
       "      <th></th>\n",
       "    </tr>\n",
       "  </thead>\n",
       "  <tbody>\n",
       "    <tr>\n",
       "      <th>2002-07-09</th>\n",
       "      <td>25.17</td>\n",
       "      <td>25.10</td>\n",
       "      <td>25.20</td>\n",
       "      <td>24.75</td>\n",
       "      <td>8.2766</td>\n",
       "      <td>8.2766</td>\n",
       "      <td>8.2766</td>\n",
       "      <td>8.2766</td>\n",
       "      <td>25.474</td>\n",
       "      <td>25.6120</td>\n",
       "      <td>...</td>\n",
       "      <td>8.2770</td>\n",
       "      <td>25.08</td>\n",
       "      <td>25.10</td>\n",
       "      <td>25.20</td>\n",
       "      <td>24.75</td>\n",
       "      <td>8.2766</td>\n",
       "      <td>8.2766</td>\n",
       "      <td>8.2766</td>\n",
       "      <td>8.2766</td>\n",
       "      <td>2002-08-01</td>\n",
       "    </tr>\n",
       "    <tr>\n",
       "      <th>2002-08-09</th>\n",
       "      <td>NaN</td>\n",
       "      <td>NaN</td>\n",
       "      <td>NaN</td>\n",
       "      <td>NaN</td>\n",
       "      <td>NaN</td>\n",
       "      <td>NaN</td>\n",
       "      <td>NaN</td>\n",
       "      <td>NaN</td>\n",
       "      <td>25.120</td>\n",
       "      <td>25.1275</td>\n",
       "      <td>...</td>\n",
       "      <td>8.2770</td>\n",
       "      <td>24.89</td>\n",
       "      <td>24.89</td>\n",
       "      <td>25.08</td>\n",
       "      <td>24.65</td>\n",
       "      <td>8.2766</td>\n",
       "      <td>8.2766</td>\n",
       "      <td>8.2766</td>\n",
       "      <td>8.2766</td>\n",
       "      <td>2002-09-01</td>\n",
       "    </tr>\n",
       "    <tr>\n",
       "      <th>2002-09-09</th>\n",
       "      <td>28.49</td>\n",
       "      <td>28.61</td>\n",
       "      <td>28.65</td>\n",
       "      <td>28.05</td>\n",
       "      <td>8.2770</td>\n",
       "      <td>8.2770</td>\n",
       "      <td>8.2770</td>\n",
       "      <td>8.2770</td>\n",
       "      <td>27.622</td>\n",
       "      <td>27.6060</td>\n",
       "      <td>...</td>\n",
       "      <td>8.2772</td>\n",
       "      <td>24.89</td>\n",
       "      <td>24.89</td>\n",
       "      <td>25.08</td>\n",
       "      <td>24.65</td>\n",
       "      <td>8.2766</td>\n",
       "      <td>8.2766</td>\n",
       "      <td>8.2766</td>\n",
       "      <td>8.2766</td>\n",
       "      <td>2002-10-01</td>\n",
       "    </tr>\n",
       "    <tr>\n",
       "      <th>2002-10-09</th>\n",
       "      <td>28.13</td>\n",
       "      <td>28.09</td>\n",
       "      <td>28.40</td>\n",
       "      <td>27.87</td>\n",
       "      <td>8.2771</td>\n",
       "      <td>8.2771</td>\n",
       "      <td>8.2771</td>\n",
       "      <td>8.2771</td>\n",
       "      <td>28.166</td>\n",
       "      <td>28.4100</td>\n",
       "      <td>...</td>\n",
       "      <td>8.2773</td>\n",
       "      <td>24.89</td>\n",
       "      <td>24.89</td>\n",
       "      <td>25.08</td>\n",
       "      <td>24.65</td>\n",
       "      <td>8.2766</td>\n",
       "      <td>8.2766</td>\n",
       "      <td>8.2766</td>\n",
       "      <td>8.2766</td>\n",
       "      <td>2002-11-01</td>\n",
       "    </tr>\n",
       "    <tr>\n",
       "      <th>2002-11-09</th>\n",
       "      <td>NaN</td>\n",
       "      <td>NaN</td>\n",
       "      <td>NaN</td>\n",
       "      <td>NaN</td>\n",
       "      <td>NaN</td>\n",
       "      <td>NaN</td>\n",
       "      <td>NaN</td>\n",
       "      <td>NaN</td>\n",
       "      <td>23.720</td>\n",
       "      <td>24.1500</td>\n",
       "      <td>...</td>\n",
       "      <td>8.2773</td>\n",
       "      <td>23.48</td>\n",
       "      <td>23.66</td>\n",
       "      <td>23.92</td>\n",
       "      <td>23.25</td>\n",
       "      <td>8.2766</td>\n",
       "      <td>8.2766</td>\n",
       "      <td>8.2766</td>\n",
       "      <td>8.2766</td>\n",
       "      <td>2002-12-01</td>\n",
       "    </tr>\n",
       "  </tbody>\n",
       "</table>\n",
       "<p>5 rows × 169 columns</p>\n",
       "</div>"
      ],
      "text/plain": [
       "            brent_close_1D_mean  brent_open_1D_mean  brent_max_1D_mean  \\\n",
       "date                                                                     \n",
       "2002-07-09                25.17               25.10              25.20   \n",
       "2002-08-09                  NaN                 NaN                NaN   \n",
       "2002-09-09                28.49               28.61              28.65   \n",
       "2002-10-09                28.13               28.09              28.40   \n",
       "2002-11-09                  NaN                 NaN                NaN   \n",
       "\n",
       "            brent_min_1D_mean  USDCNY_close_1D_mean  USDCNY_open_1D_mean  \\\n",
       "date                                                                       \n",
       "2002-07-09              24.75                8.2766               8.2766   \n",
       "2002-08-09                NaN                   NaN                  NaN   \n",
       "2002-09-09              28.05                8.2770               8.2770   \n",
       "2002-10-09              27.87                8.2771               8.2771   \n",
       "2002-11-09                NaN                   NaN                  NaN   \n",
       "\n",
       "            USDCNY_max_1D_mean  USDCNY_min_1D_mean  brent_close_7D_mean  \\\n",
       "date                                                                      \n",
       "2002-07-09              8.2766              8.2766               25.474   \n",
       "2002-08-09                 NaN                 NaN               25.120   \n",
       "2002-09-09              8.2770              8.2770               27.622   \n",
       "2002-10-09              8.2771              8.2771               28.166   \n",
       "2002-11-09                 NaN                 NaN               23.720   \n",
       "\n",
       "            brent_open_7D_mean  ...  USDCNY_min_180D_max  \\\n",
       "date                            ...                        \n",
       "2002-07-09             25.6120  ...               8.2770   \n",
       "2002-08-09             25.1275  ...               8.2770   \n",
       "2002-09-09             27.6060  ...               8.2772   \n",
       "2002-10-09             28.4100  ...               8.2773   \n",
       "2002-11-09             24.1500  ...               8.2773   \n",
       "\n",
       "            brent_close_180D_min  brent_open_180D_min  brent_max_180D_min  \\\n",
       "date                                                                        \n",
       "2002-07-09                 25.08                25.10               25.20   \n",
       "2002-08-09                 24.89                24.89               25.08   \n",
       "2002-09-09                 24.89                24.89               25.08   \n",
       "2002-10-09                 24.89                24.89               25.08   \n",
       "2002-11-09                 23.48                23.66               23.92   \n",
       "\n",
       "            brent_min_180D_min  USDCNY_close_180D_min  USDCNY_open_180D_min  \\\n",
       "date                                                                          \n",
       "2002-07-09               24.75                 8.2766                8.2766   \n",
       "2002-08-09               24.65                 8.2766                8.2766   \n",
       "2002-09-09               24.65                 8.2766                8.2766   \n",
       "2002-10-09               24.65                 8.2766                8.2766   \n",
       "2002-11-09               23.25                 8.2766                8.2766   \n",
       "\n",
       "            USDCNY_max_180D_min  USDCNY_min_180D_min  prediction_date  \n",
       "date                                                                   \n",
       "2002-07-09               8.2766               8.2766       2002-08-01  \n",
       "2002-08-09               8.2766               8.2766       2002-09-01  \n",
       "2002-09-09               8.2766               8.2766       2002-10-01  \n",
       "2002-10-09               8.2766               8.2766       2002-11-01  \n",
       "2002-11-09               8.2766               8.2766       2002-12-01  \n",
       "\n",
       "[5 rows x 169 columns]"
      ]
     },
     "execution_count": 145,
     "metadata": {},
     "output_type": "execute_result"
    }
   ],
   "source": [
    "all_features.head()"
   ]
  },
  {
   "cell_type": "code",
   "execution_count": 146,
   "metadata": {
    "ExecuteTime": {
     "end_time": "2019-10-14T03:11:56.013378Z",
     "start_time": "2019-10-14T03:11:55.999503Z"
    }
   },
   "outputs": [],
   "source": [
    "final_fts = all_features.ffill()"
   ]
  },
  {
   "cell_type": "code",
   "execution_count": 147,
   "metadata": {
    "ExecuteTime": {
     "end_time": "2019-10-14T03:11:56.083177Z",
     "start_time": "2019-10-14T03:11:56.018007Z"
    }
   },
   "outputs": [
    {
     "data": {
      "text/html": [
       "<div>\n",
       "<style scoped>\n",
       "    .dataframe tbody tr th:only-of-type {\n",
       "        vertical-align: middle;\n",
       "    }\n",
       "\n",
       "    .dataframe tbody tr th {\n",
       "        vertical-align: top;\n",
       "    }\n",
       "\n",
       "    .dataframe thead th {\n",
       "        text-align: right;\n",
       "    }\n",
       "</style>\n",
       "<table border=\"1\" class=\"dataframe\">\n",
       "  <thead>\n",
       "    <tr style=\"text-align: right;\">\n",
       "      <th></th>\n",
       "      <th>pet</th>\n",
       "      <th>brent_close_1D_mean</th>\n",
       "      <th>brent_open_1D_mean</th>\n",
       "      <th>brent_max_1D_mean</th>\n",
       "      <th>brent_min_1D_mean</th>\n",
       "      <th>USDCNY_close_1D_mean</th>\n",
       "      <th>USDCNY_open_1D_mean</th>\n",
       "      <th>USDCNY_max_1D_mean</th>\n",
       "      <th>USDCNY_min_1D_mean</th>\n",
       "      <th>brent_close_7D_mean</th>\n",
       "      <th>...</th>\n",
       "      <th>USDCNY_max_180D_max</th>\n",
       "      <th>USDCNY_min_180D_max</th>\n",
       "      <th>brent_close_180D_min</th>\n",
       "      <th>brent_open_180D_min</th>\n",
       "      <th>brent_max_180D_min</th>\n",
       "      <th>brent_min_180D_min</th>\n",
       "      <th>USDCNY_close_180D_min</th>\n",
       "      <th>USDCNY_open_180D_min</th>\n",
       "      <th>USDCNY_max_180D_min</th>\n",
       "      <th>USDCNY_min_180D_min</th>\n",
       "    </tr>\n",
       "    <tr>\n",
       "      <th>date</th>\n",
       "      <th></th>\n",
       "      <th></th>\n",
       "      <th></th>\n",
       "      <th></th>\n",
       "      <th></th>\n",
       "      <th></th>\n",
       "      <th></th>\n",
       "      <th></th>\n",
       "      <th></th>\n",
       "      <th></th>\n",
       "      <th></th>\n",
       "      <th></th>\n",
       "      <th></th>\n",
       "      <th></th>\n",
       "      <th></th>\n",
       "      <th></th>\n",
       "      <th></th>\n",
       "      <th></th>\n",
       "      <th></th>\n",
       "      <th></th>\n",
       "      <th></th>\n",
       "    </tr>\n",
       "  </thead>\n",
       "  <tbody>\n",
       "    <tr>\n",
       "      <th>2004-06-01</th>\n",
       "      <td>961.25</td>\n",
       "      <td>32.23</td>\n",
       "      <td>32.95</td>\n",
       "      <td>33.14</td>\n",
       "      <td>32.15</td>\n",
       "      <td>8.2767</td>\n",
       "      <td>8.2767</td>\n",
       "      <td>8.2767</td>\n",
       "      <td>8.2767</td>\n",
       "      <td>36.5450</td>\n",
       "      <td>...</td>\n",
       "      <td>8.2774</td>\n",
       "      <td>8.2774</td>\n",
       "      <td>27.86</td>\n",
       "      <td>28.05</td>\n",
       "      <td>28.43</td>\n",
       "      <td>27.68</td>\n",
       "      <td>8.2767</td>\n",
       "      <td>8.2767</td>\n",
       "      <td>8.2767</td>\n",
       "      <td>8.2767</td>\n",
       "    </tr>\n",
       "    <tr>\n",
       "      <th>2004-07-01</th>\n",
       "      <td>962.00</td>\n",
       "      <td>35.29</td>\n",
       "      <td>34.75</td>\n",
       "      <td>35.44</td>\n",
       "      <td>34.43</td>\n",
       "      <td>8.2767</td>\n",
       "      <td>8.2767</td>\n",
       "      <td>8.2767</td>\n",
       "      <td>8.2767</td>\n",
       "      <td>35.6740</td>\n",
       "      <td>...</td>\n",
       "      <td>8.2774</td>\n",
       "      <td>8.2774</td>\n",
       "      <td>28.83</td>\n",
       "      <td>28.94</td>\n",
       "      <td>29.18</td>\n",
       "      <td>28.44</td>\n",
       "      <td>8.2767</td>\n",
       "      <td>8.2767</td>\n",
       "      <td>8.2767</td>\n",
       "      <td>8.2767</td>\n",
       "    </tr>\n",
       "    <tr>\n",
       "      <th>2004-08-01</th>\n",
       "      <td>1053.75</td>\n",
       "      <td>37.05</td>\n",
       "      <td>37.60</td>\n",
       "      <td>37.80</td>\n",
       "      <td>37.00</td>\n",
       "      <td>8.2769</td>\n",
       "      <td>8.2769</td>\n",
       "      <td>8.2769</td>\n",
       "      <td>8.2769</td>\n",
       "      <td>36.9820</td>\n",
       "      <td>...</td>\n",
       "      <td>8.2774</td>\n",
       "      <td>8.2774</td>\n",
       "      <td>28.83</td>\n",
       "      <td>29.00</td>\n",
       "      <td>29.18</td>\n",
       "      <td>28.44</td>\n",
       "      <td>8.2766</td>\n",
       "      <td>8.2766</td>\n",
       "      <td>8.2766</td>\n",
       "      <td>8.2766</td>\n",
       "    </tr>\n",
       "    <tr>\n",
       "      <th>2004-09-01</th>\n",
       "      <td>1180.00</td>\n",
       "      <td>37.05</td>\n",
       "      <td>37.60</td>\n",
       "      <td>37.80</td>\n",
       "      <td>37.00</td>\n",
       "      <td>8.2769</td>\n",
       "      <td>8.2769</td>\n",
       "      <td>8.2769</td>\n",
       "      <td>8.2769</td>\n",
       "      <td>40.5225</td>\n",
       "      <td>...</td>\n",
       "      <td>8.2774</td>\n",
       "      <td>8.2774</td>\n",
       "      <td>30.07</td>\n",
       "      <td>29.65</td>\n",
       "      <td>30.15</td>\n",
       "      <td>29.57</td>\n",
       "      <td>8.2766</td>\n",
       "      <td>8.2766</td>\n",
       "      <td>8.2766</td>\n",
       "      <td>8.2766</td>\n",
       "    </tr>\n",
       "    <tr>\n",
       "      <th>2004-10-01</th>\n",
       "      <td>1240.00</td>\n",
       "      <td>42.22</td>\n",
       "      <td>40.25</td>\n",
       "      <td>42.30</td>\n",
       "      <td>40.10</td>\n",
       "      <td>8.2768</td>\n",
       "      <td>8.2768</td>\n",
       "      <td>8.2768</td>\n",
       "      <td>8.2768</td>\n",
       "      <td>41.0440</td>\n",
       "      <td>...</td>\n",
       "      <td>8.2774</td>\n",
       "      <td>8.2774</td>\n",
       "      <td>30.21</td>\n",
       "      <td>30.69</td>\n",
       "      <td>30.92</td>\n",
       "      <td>29.95</td>\n",
       "      <td>8.2766</td>\n",
       "      <td>8.2766</td>\n",
       "      <td>8.2766</td>\n",
       "      <td>8.2766</td>\n",
       "    </tr>\n",
       "  </tbody>\n",
       "</table>\n",
       "<p>5 rows × 169 columns</p>\n",
       "</div>"
      ],
      "text/plain": [
       "                pet  brent_close_1D_mean  brent_open_1D_mean  \\\n",
       "date                                                           \n",
       "2004-06-01   961.25                32.23               32.95   \n",
       "2004-07-01   962.00                35.29               34.75   \n",
       "2004-08-01  1053.75                37.05               37.60   \n",
       "2004-09-01  1180.00                37.05               37.60   \n",
       "2004-10-01  1240.00                42.22               40.25   \n",
       "\n",
       "            brent_max_1D_mean  brent_min_1D_mean  USDCNY_close_1D_mean  \\\n",
       "date                                                                     \n",
       "2004-06-01              33.14              32.15                8.2767   \n",
       "2004-07-01              35.44              34.43                8.2767   \n",
       "2004-08-01              37.80              37.00                8.2769   \n",
       "2004-09-01              37.80              37.00                8.2769   \n",
       "2004-10-01              42.30              40.10                8.2768   \n",
       "\n",
       "            USDCNY_open_1D_mean  USDCNY_max_1D_mean  USDCNY_min_1D_mean  \\\n",
       "date                                                                      \n",
       "2004-06-01               8.2767              8.2767              8.2767   \n",
       "2004-07-01               8.2767              8.2767              8.2767   \n",
       "2004-08-01               8.2769              8.2769              8.2769   \n",
       "2004-09-01               8.2769              8.2769              8.2769   \n",
       "2004-10-01               8.2768              8.2768              8.2768   \n",
       "\n",
       "            brent_close_7D_mean  ...  USDCNY_max_180D_max  \\\n",
       "date                             ...                        \n",
       "2004-06-01              36.5450  ...               8.2774   \n",
       "2004-07-01              35.6740  ...               8.2774   \n",
       "2004-08-01              36.9820  ...               8.2774   \n",
       "2004-09-01              40.5225  ...               8.2774   \n",
       "2004-10-01              41.0440  ...               8.2774   \n",
       "\n",
       "            USDCNY_min_180D_max  brent_close_180D_min  brent_open_180D_min  \\\n",
       "date                                                                         \n",
       "2004-06-01               8.2774                 27.86                28.05   \n",
       "2004-07-01               8.2774                 28.83                28.94   \n",
       "2004-08-01               8.2774                 28.83                29.00   \n",
       "2004-09-01               8.2774                 30.07                29.65   \n",
       "2004-10-01               8.2774                 30.21                30.69   \n",
       "\n",
       "            brent_max_180D_min  brent_min_180D_min  USDCNY_close_180D_min  \\\n",
       "date                                                                        \n",
       "2004-06-01               28.43               27.68                 8.2767   \n",
       "2004-07-01               29.18               28.44                 8.2767   \n",
       "2004-08-01               29.18               28.44                 8.2766   \n",
       "2004-09-01               30.15               29.57                 8.2766   \n",
       "2004-10-01               30.92               29.95                 8.2766   \n",
       "\n",
       "            USDCNY_open_180D_min  USDCNY_max_180D_min  USDCNY_min_180D_min  \n",
       "date                                                                        \n",
       "2004-06-01                8.2767               8.2767               8.2767  \n",
       "2004-07-01                8.2767               8.2767               8.2767  \n",
       "2004-08-01                8.2766               8.2766               8.2766  \n",
       "2004-09-01                8.2766               8.2766               8.2766  \n",
       "2004-10-01                8.2766               8.2766               8.2766  \n",
       "\n",
       "[5 rows x 169 columns]"
      ]
     },
     "execution_count": 147,
     "metadata": {},
     "output_type": "execute_result"
    }
   ],
   "source": [
    "df = train_target.join(final_fts.set_index(\"prediction_date\"), how=\"outer\")[\"2004-06\":]\n",
    "df.index.name = \"date\"\n",
    "df.head()"
   ]
  },
  {
   "cell_type": "code",
   "execution_count": 148,
   "metadata": {
    "ExecuteTime": {
     "end_time": "2019-10-14T03:11:56.249527Z",
     "start_time": "2019-10-14T03:11:56.088701Z"
    }
   },
   "outputs": [],
   "source": [
    "df[\"month\"] = df.index.month\n",
    "FTS_COLS = df.columns[1:]\n",
    "TARGET = \"pet\""
   ]
  },
  {
   "cell_type": "code",
   "execution_count": 149,
   "metadata": {
    "ExecuteTime": {
     "end_time": "2019-10-14T03:11:56.319904Z",
     "start_time": "2019-10-14T03:11:56.254733Z"
    }
   },
   "outputs": [
    {
     "data": {
      "text/html": [
       "<div>\n",
       "<style scoped>\n",
       "    .dataframe tbody tr th:only-of-type {\n",
       "        vertical-align: middle;\n",
       "    }\n",
       "\n",
       "    .dataframe tbody tr th {\n",
       "        vertical-align: top;\n",
       "    }\n",
       "\n",
       "    .dataframe thead th {\n",
       "        text-align: right;\n",
       "    }\n",
       "</style>\n",
       "<table border=\"1\" class=\"dataframe\">\n",
       "  <thead>\n",
       "    <tr style=\"text-align: right;\">\n",
       "      <th></th>\n",
       "      <th>pet</th>\n",
       "      <th>brent_close_1D_mean</th>\n",
       "      <th>brent_open_1D_mean</th>\n",
       "      <th>brent_max_1D_mean</th>\n",
       "      <th>brent_min_1D_mean</th>\n",
       "      <th>USDCNY_close_1D_mean</th>\n",
       "      <th>USDCNY_open_1D_mean</th>\n",
       "      <th>USDCNY_max_1D_mean</th>\n",
       "      <th>USDCNY_min_1D_mean</th>\n",
       "      <th>brent_close_7D_mean</th>\n",
       "      <th>...</th>\n",
       "      <th>USDCNY_min_180D_max</th>\n",
       "      <th>brent_close_180D_min</th>\n",
       "      <th>brent_open_180D_min</th>\n",
       "      <th>brent_max_180D_min</th>\n",
       "      <th>brent_min_180D_min</th>\n",
       "      <th>USDCNY_close_180D_min</th>\n",
       "      <th>USDCNY_open_180D_min</th>\n",
       "      <th>USDCNY_max_180D_min</th>\n",
       "      <th>USDCNY_min_180D_min</th>\n",
       "      <th>month</th>\n",
       "    </tr>\n",
       "    <tr>\n",
       "      <th>date</th>\n",
       "      <th></th>\n",
       "      <th></th>\n",
       "      <th></th>\n",
       "      <th></th>\n",
       "      <th></th>\n",
       "      <th></th>\n",
       "      <th></th>\n",
       "      <th></th>\n",
       "      <th></th>\n",
       "      <th></th>\n",
       "      <th></th>\n",
       "      <th></th>\n",
       "      <th></th>\n",
       "      <th></th>\n",
       "      <th></th>\n",
       "      <th></th>\n",
       "      <th></th>\n",
       "      <th></th>\n",
       "      <th></th>\n",
       "      <th></th>\n",
       "      <th></th>\n",
       "    </tr>\n",
       "  </thead>\n",
       "  <tbody>\n",
       "    <tr>\n",
       "      <th>2004-06-01</th>\n",
       "      <td>961.25</td>\n",
       "      <td>32.23</td>\n",
       "      <td>32.95</td>\n",
       "      <td>33.14</td>\n",
       "      <td>32.15</td>\n",
       "      <td>8.2767</td>\n",
       "      <td>8.2767</td>\n",
       "      <td>8.2767</td>\n",
       "      <td>8.2767</td>\n",
       "      <td>36.5450</td>\n",
       "      <td>...</td>\n",
       "      <td>8.2774</td>\n",
       "      <td>27.86</td>\n",
       "      <td>28.05</td>\n",
       "      <td>28.43</td>\n",
       "      <td>27.68</td>\n",
       "      <td>8.2767</td>\n",
       "      <td>8.2767</td>\n",
       "      <td>8.2767</td>\n",
       "      <td>8.2767</td>\n",
       "      <td>6</td>\n",
       "    </tr>\n",
       "    <tr>\n",
       "      <th>2004-07-01</th>\n",
       "      <td>962.00</td>\n",
       "      <td>35.29</td>\n",
       "      <td>34.75</td>\n",
       "      <td>35.44</td>\n",
       "      <td>34.43</td>\n",
       "      <td>8.2767</td>\n",
       "      <td>8.2767</td>\n",
       "      <td>8.2767</td>\n",
       "      <td>8.2767</td>\n",
       "      <td>35.6740</td>\n",
       "      <td>...</td>\n",
       "      <td>8.2774</td>\n",
       "      <td>28.83</td>\n",
       "      <td>28.94</td>\n",
       "      <td>29.18</td>\n",
       "      <td>28.44</td>\n",
       "      <td>8.2767</td>\n",
       "      <td>8.2767</td>\n",
       "      <td>8.2767</td>\n",
       "      <td>8.2767</td>\n",
       "      <td>7</td>\n",
       "    </tr>\n",
       "    <tr>\n",
       "      <th>2004-08-01</th>\n",
       "      <td>1053.75</td>\n",
       "      <td>37.05</td>\n",
       "      <td>37.60</td>\n",
       "      <td>37.80</td>\n",
       "      <td>37.00</td>\n",
       "      <td>8.2769</td>\n",
       "      <td>8.2769</td>\n",
       "      <td>8.2769</td>\n",
       "      <td>8.2769</td>\n",
       "      <td>36.9820</td>\n",
       "      <td>...</td>\n",
       "      <td>8.2774</td>\n",
       "      <td>28.83</td>\n",
       "      <td>29.00</td>\n",
       "      <td>29.18</td>\n",
       "      <td>28.44</td>\n",
       "      <td>8.2766</td>\n",
       "      <td>8.2766</td>\n",
       "      <td>8.2766</td>\n",
       "      <td>8.2766</td>\n",
       "      <td>8</td>\n",
       "    </tr>\n",
       "    <tr>\n",
       "      <th>2004-09-01</th>\n",
       "      <td>1180.00</td>\n",
       "      <td>37.05</td>\n",
       "      <td>37.60</td>\n",
       "      <td>37.80</td>\n",
       "      <td>37.00</td>\n",
       "      <td>8.2769</td>\n",
       "      <td>8.2769</td>\n",
       "      <td>8.2769</td>\n",
       "      <td>8.2769</td>\n",
       "      <td>40.5225</td>\n",
       "      <td>...</td>\n",
       "      <td>8.2774</td>\n",
       "      <td>30.07</td>\n",
       "      <td>29.65</td>\n",
       "      <td>30.15</td>\n",
       "      <td>29.57</td>\n",
       "      <td>8.2766</td>\n",
       "      <td>8.2766</td>\n",
       "      <td>8.2766</td>\n",
       "      <td>8.2766</td>\n",
       "      <td>9</td>\n",
       "    </tr>\n",
       "    <tr>\n",
       "      <th>2004-10-01</th>\n",
       "      <td>1240.00</td>\n",
       "      <td>42.22</td>\n",
       "      <td>40.25</td>\n",
       "      <td>42.30</td>\n",
       "      <td>40.10</td>\n",
       "      <td>8.2768</td>\n",
       "      <td>8.2768</td>\n",
       "      <td>8.2768</td>\n",
       "      <td>8.2768</td>\n",
       "      <td>41.0440</td>\n",
       "      <td>...</td>\n",
       "      <td>8.2774</td>\n",
       "      <td>30.21</td>\n",
       "      <td>30.69</td>\n",
       "      <td>30.92</td>\n",
       "      <td>29.95</td>\n",
       "      <td>8.2766</td>\n",
       "      <td>8.2766</td>\n",
       "      <td>8.2766</td>\n",
       "      <td>8.2766</td>\n",
       "      <td>10</td>\n",
       "    </tr>\n",
       "  </tbody>\n",
       "</table>\n",
       "<p>5 rows × 170 columns</p>\n",
       "</div>"
      ],
      "text/plain": [
       "                pet  brent_close_1D_mean  brent_open_1D_mean  \\\n",
       "date                                                           \n",
       "2004-06-01   961.25                32.23               32.95   \n",
       "2004-07-01   962.00                35.29               34.75   \n",
       "2004-08-01  1053.75                37.05               37.60   \n",
       "2004-09-01  1180.00                37.05               37.60   \n",
       "2004-10-01  1240.00                42.22               40.25   \n",
       "\n",
       "            brent_max_1D_mean  brent_min_1D_mean  USDCNY_close_1D_mean  \\\n",
       "date                                                                     \n",
       "2004-06-01              33.14              32.15                8.2767   \n",
       "2004-07-01              35.44              34.43                8.2767   \n",
       "2004-08-01              37.80              37.00                8.2769   \n",
       "2004-09-01              37.80              37.00                8.2769   \n",
       "2004-10-01              42.30              40.10                8.2768   \n",
       "\n",
       "            USDCNY_open_1D_mean  USDCNY_max_1D_mean  USDCNY_min_1D_mean  \\\n",
       "date                                                                      \n",
       "2004-06-01               8.2767              8.2767              8.2767   \n",
       "2004-07-01               8.2767              8.2767              8.2767   \n",
       "2004-08-01               8.2769              8.2769              8.2769   \n",
       "2004-09-01               8.2769              8.2769              8.2769   \n",
       "2004-10-01               8.2768              8.2768              8.2768   \n",
       "\n",
       "            brent_close_7D_mean  ...  USDCNY_min_180D_max  \\\n",
       "date                             ...                        \n",
       "2004-06-01              36.5450  ...               8.2774   \n",
       "2004-07-01              35.6740  ...               8.2774   \n",
       "2004-08-01              36.9820  ...               8.2774   \n",
       "2004-09-01              40.5225  ...               8.2774   \n",
       "2004-10-01              41.0440  ...               8.2774   \n",
       "\n",
       "            brent_close_180D_min  brent_open_180D_min  brent_max_180D_min  \\\n",
       "date                                                                        \n",
       "2004-06-01                 27.86                28.05               28.43   \n",
       "2004-07-01                 28.83                28.94               29.18   \n",
       "2004-08-01                 28.83                29.00               29.18   \n",
       "2004-09-01                 30.07                29.65               30.15   \n",
       "2004-10-01                 30.21                30.69               30.92   \n",
       "\n",
       "            brent_min_180D_min  USDCNY_close_180D_min  USDCNY_open_180D_min  \\\n",
       "date                                                                          \n",
       "2004-06-01               27.68                 8.2767                8.2767   \n",
       "2004-07-01               28.44                 8.2767                8.2767   \n",
       "2004-08-01               28.44                 8.2766                8.2766   \n",
       "2004-09-01               29.57                 8.2766                8.2766   \n",
       "2004-10-01               29.95                 8.2766                8.2766   \n",
       "\n",
       "            USDCNY_max_180D_min  USDCNY_min_180D_min  month  \n",
       "date                                                         \n",
       "2004-06-01               8.2767               8.2767      6  \n",
       "2004-07-01               8.2767               8.2767      7  \n",
       "2004-08-01               8.2766               8.2766      8  \n",
       "2004-09-01               8.2766               8.2766      9  \n",
       "2004-10-01               8.2766               8.2766     10  \n",
       "\n",
       "[5 rows x 170 columns]"
      ]
     },
     "execution_count": 149,
     "metadata": {},
     "output_type": "execute_result"
    }
   ],
   "source": [
    "df.head()"
   ]
  },
  {
   "cell_type": "markdown",
   "metadata": {
    "ExecuteTime": {
     "end_time": "2019-08-19T09:49:55.190063Z",
     "start_time": "2019-08-19T09:49:55.006567Z"
    }
   },
   "source": [
    "# Модели"
   ]
  },
  {
   "cell_type": "code",
   "execution_count": 150,
   "metadata": {
    "ExecuteTime": {
     "end_time": "2019-10-14T03:11:56.328907Z",
     "start_time": "2019-10-14T03:11:56.323514Z"
    }
   },
   "outputs": [],
   "source": [
    "def mape(y_true, y_pred):\n",
    "    return np.mean(np.abs((y_pred-y_true)/y_true))"
   ]
  },
  {
   "cell_type": "markdown",
   "metadata": {
    "ExecuteTime": {
     "end_time": "2019-08-19T09:24:37.015624Z",
     "start_time": "2019-08-19T09:24:37.010868Z"
    }
   },
   "source": [
    "## Train/CV"
   ]
  },
  {
   "cell_type": "code",
   "execution_count": 151,
   "metadata": {
    "ExecuteTime": {
     "end_time": "2019-10-14T03:11:56.345794Z",
     "start_time": "2019-10-14T03:11:56.333014Z"
    }
   },
   "outputs": [],
   "source": [
    "tr = df[:\"2013\"].copy()\n",
    "cv = df[\"2014\":\"2015\"].copy()\n",
    "ts = df[\"2016\":].copy()"
   ]
  },
  {
   "cell_type": "code",
   "execution_count": 152,
   "metadata": {
    "ExecuteTime": {
     "end_time": "2019-10-14T03:11:57.307857Z",
     "start_time": "2019-10-14T03:11:56.349538Z"
    }
   },
   "outputs": [
    {
     "data": {
      "text/plain": [
       "Text(0.5, 1, 'pet prices')"
      ]
     },
     "execution_count": 152,
     "metadata": {},
     "output_type": "execute_result"
    },
    {
     "data": {
      "image/png": "[encoded data removed]",
      "text/plain": [
       "<Figure size 432x432 with 1 Axes>"
      ]
     },
     "metadata": {
      "needs_background": "light"
     },
     "output_type": "display_data"
    }
   ],
   "source": [
    "tr[\"pet\"].plot(ax=plt.gca(), label=\"train\")\n",
    "cv[\"pet\"].plot(ax=plt.gca(), label=\"cv\")\n",
    "plt.legend(loc=0)\n",
    "plt.ylabel(\"$\")\n",
    "plt.tight_layout()\n",
    "plt.title(\"pet prices\", fontsize=12)"
   ]
  },
  {
   "cell_type": "markdown",
   "metadata": {
    "ExecuteTime": {
     "end_time": "2019-08-19T09:52:37.255429Z",
     "start_time": "2019-08-19T09:52:37.179732Z"
    }
   },
   "source": [
    "## Тривиальные бенчмарки"
   ]
  },
  {
   "cell_type": "code",
   "execution_count": 153,
   "metadata": {
    "ExecuteTime": {
     "end_time": "2019-10-14T03:11:57.328914Z",
     "start_time": "2019-10-14T03:11:57.312149Z"
    }
   },
   "outputs": [
    {
     "name": "stdout",
     "output_type": "stream",
     "text": [
      "Naive benchmark (last known value): 26.0\n",
      "Naive benchmark (CV period median): 20.9\n"
     ]
    }
   ],
   "source": [
    "print(f\"Naive benchmark (last known value): {100 * mape(cv[TARGET], tr.iloc[-1][TARGET]):0.1f}\")\n",
    "print(f\"Naive benchmark (CV period median): {100 * mape(cv[TARGET], tr[TARGET].median()):0.1f}\")"
   ]
  },
  {
   "cell_type": "code",
   "execution_count": 154,
   "metadata": {
    "ExecuteTime": {
     "end_time": "2019-10-14T03:11:57.352719Z",
     "start_time": "2019-10-14T03:11:57.333757Z"
    }
   },
   "outputs": [],
   "source": [
    "naive_baseline = test_target.copy()\n",
    "naive_baseline[\"pet\"] = df[TARGET].median()\n",
    "naive_baseline.to_csv(DATA_DIR.joinpath(\"pet_naive_baseline.csv\"))"
   ]
  },
  {
   "cell_type": "markdown",
   "metadata": {
    "ExecuteTime": {
     "end_time": "2019-08-19T09:54:49.843710Z",
     "start_time": "2019-08-19T09:54:49.837469Z"
    }
   },
   "source": [
    "## Фильтруем признаки"
   ]
  },
  {
   "cell_type": "code",
   "execution_count": 155,
   "metadata": {
    "ExecuteTime": {
     "end_time": "2019-10-14T03:11:57.377567Z",
     "start_time": "2019-10-14T03:11:57.356179Z"
    }
   },
   "outputs": [],
   "source": [
    "corrs = tr.corr().loc[TARGET, FTS_COLS[:-1]]"
   ]
  },
  {
   "cell_type": "code",
   "execution_count": 156,
   "metadata": {
    "ExecuteTime": {
     "end_time": "2019-10-14T03:11:57.398106Z",
     "start_time": "2019-10-14T03:11:57.381185Z"
    }
   },
   "outputs": [
    {
     "data": {
      "text/plain": [
       "brent_min_7D_min         0.747031\n",
       "brent_close_7D_min       0.745576\n",
       "brent_open_7D_min        0.742534\n",
       "brent_max_7D_min         0.742294\n",
       "brent_min_7D_mean        0.742167\n",
       "brent_close_7D_median    0.741957\n",
       "brent_close_7D_mean      0.741379\n",
       "brent_min_7D_median      0.740387\n",
       "brent_open_7D_median     0.739480\n",
       "brent_open_7D_mean       0.736746\n",
       "brent_max_7D_mean        0.735928\n",
       "brent_min_7D_max         0.735559\n",
       "brent_max_7D_median      0.734631\n",
       "brent_close_7D_max       0.730987\n",
       "brent_max_7D_max         0.728108\n",
       "brent_open_7D_max        0.727983\n",
       "brent_min_30D_min        0.726494\n",
       "brent_close_30D_min      0.726260\n",
       "brent_open_30D_min       0.722137\n",
       "brent_max_30D_min        0.721894\n",
       "brent_close_1D_mean      0.720907\n",
       "brent_min_1D_mean        0.718770\n",
       "brent_max_1D_mean        0.714021\n",
       "brent_min_60D_min        0.713307\n",
       "brent_close_60D_min      0.712315\n",
       "Name: pet, dtype: float64"
      ]
     },
     "execution_count": 156,
     "metadata": {},
     "output_type": "execute_result"
    }
   ],
   "source": [
    "corrs.abs().sort_values(ascending=False).head(25)"
   ]
  },
  {
   "cell_type": "code",
   "execution_count": 157,
   "metadata": {
    "ExecuteTime": {
     "end_time": "2019-10-14T03:11:57.928706Z",
     "start_time": "2019-10-14T03:11:57.403935Z"
    }
   },
   "outputs": [
    {
     "data": {
      "text/plain": [
       "<matplotlib.axes._subplots.AxesSubplot at 0x7fa99c6d4b00>"
      ]
     },
     "execution_count": 157,
     "metadata": {},
     "output_type": "execute_result"
    },
    {
     "data": {
      "image/png": "[encoded data removed]",
      "text/plain": [
       "<Figure size 432x432 with 1 Axes>"
      ]
     },
     "metadata": {
      "needs_background": "light"
     },
     "output_type": "display_data"
    }
   ],
   "source": [
    "corrs.abs().plot(kind=\"hist\")"
   ]
  },
  {
   "cell_type": "code",
   "execution_count": 158,
   "metadata": {
    "ExecuteTime": {
     "end_time": "2019-10-14T03:11:57.947671Z",
     "start_time": "2019-10-14T03:11:57.933942Z"
    }
   },
   "outputs": [],
   "source": [
    "FCOLS = corrs[corrs.abs()>=0.2].index"
   ]
  },
  {
   "cell_type": "code",
   "execution_count": 159,
   "metadata": {
    "ExecuteTime": {
     "end_time": "2019-10-14T03:11:57.968067Z",
     "start_time": "2019-10-14T03:11:57.952186Z"
    }
   },
   "outputs": [
    {
     "data": {
      "text/plain": [
       "Index(['brent_close_1D_mean', 'brent_open_1D_mean', 'brent_max_1D_mean',\n",
       "       'brent_min_1D_mean', 'USDCNY_close_1D_mean', 'USDCNY_open_1D_mean',\n",
       "       'USDCNY_max_1D_mean', 'USDCNY_min_1D_mean', 'brent_close_7D_mean',\n",
       "       'brent_open_7D_mean',\n",
       "       ...\n",
       "       'USDCNY_max_180D_max', 'USDCNY_min_180D_max', 'brent_close_180D_min',\n",
       "       'brent_open_180D_min', 'brent_max_180D_min', 'brent_min_180D_min',\n",
       "       'USDCNY_close_180D_min', 'USDCNY_open_180D_min', 'USDCNY_max_180D_min',\n",
       "       'USDCNY_min_180D_min'],\n",
       "      dtype='object', length=156)"
      ]
     },
     "execution_count": 159,
     "metadata": {},
     "output_type": "execute_result"
    }
   ],
   "source": [
    "FCOLS"
   ]
  },
  {
   "cell_type": "markdown",
   "metadata": {
    "ExecuteTime": {
     "end_time": "2019-08-19T10:22:46.468920Z",
     "start_time": "2019-08-19T10:22:46.443934Z"
    }
   },
   "source": [
    "## Линейная модель"
   ]
  },
  {
   "cell_type": "markdown",
   "metadata": {},
   "source": [
    "Подбираем параметры:"
   ]
  },
  {
   "cell_type": "code",
   "execution_count": 160,
   "metadata": {
    "ExecuteTime": {
     "end_time": "2019-10-14T03:12:03.016688Z",
     "start_time": "2019-10-14T03:11:57.976020Z"
    }
   },
   "outputs": [
    {
     "name": "stderr",
     "output_type": "stream",
     "text": [
      "/home/traveller/.local/lib/python3.6/site-packages/sklearn/linear_model/coordinate_descent.py:475: ConvergenceWarning: Objective did not converge. You might want to increase the number of iterations. Duality gap: 559985.8227331929, tolerance: 483.02647943236707\n",
      "  positive)\n",
      "/home/traveller/.local/lib/python3.6/site-packages/sklearn/linear_model/coordinate_descent.py:475: ConvergenceWarning: Objective did not converge. You might want to increase the number of iterations. Duality gap: 558262.8195655285, tolerance: 483.02647943236707\n",
      "  positive)\n",
      "/home/traveller/.local/lib/python3.6/site-packages/sklearn/linear_model/coordinate_descent.py:475: ConvergenceWarning: Objective did not converge. You might want to increase the number of iterations. Duality gap: 553998.5534193512, tolerance: 483.02647943236707\n",
      "  positive)\n",
      "/home/traveller/.local/lib/python3.6/site-packages/sklearn/linear_model/coordinate_descent.py:475: ConvergenceWarning: Objective did not converge. You might want to increase the number of iterations. Duality gap: 546276.1659632208, tolerance: 483.02647943236707\n",
      "  positive)\n",
      "/home/traveller/.local/lib/python3.6/site-packages/sklearn/linear_model/coordinate_descent.py:475: ConvergenceWarning: Objective did not converge. You might want to increase the number of iterations. Duality gap: 391630.73963508464, tolerance: 483.02647943236707\n",
      "  positive)\n",
      "/home/traveller/.local/lib/python3.6/site-packages/sklearn/linear_model/coordinate_descent.py:475: ConvergenceWarning: Objective did not converge. You might want to increase the number of iterations. Duality gap: 578446.5385433283, tolerance: 483.02647943236707\n",
      "  positive)\n",
      "/home/traveller/.local/lib/python3.6/site-packages/sklearn/linear_model/coordinate_descent.py:475: ConvergenceWarning: Objective did not converge. You might want to increase the number of iterations. Duality gap: 576188.3693779071, tolerance: 483.02647943236707\n",
      "  positive)\n",
      "/home/traveller/.local/lib/python3.6/site-packages/sklearn/linear_model/coordinate_descent.py:475: ConvergenceWarning: Objective did not converge. You might want to increase the number of iterations. Duality gap: 572090.0506790767, tolerance: 483.02647943236707\n",
      "  positive)\n",
      "/home/traveller/.local/lib/python3.6/site-packages/sklearn/linear_model/coordinate_descent.py:475: ConvergenceWarning: Objective did not converge. You might want to increase the number of iterations. Duality gap: 568182.5845413338, tolerance: 483.02647943236707\n",
      "  positive)\n",
      "/home/traveller/.local/lib/python3.6/site-packages/sklearn/linear_model/coordinate_descent.py:475: ConvergenceWarning: Objective did not converge. You might want to increase the number of iterations. Duality gap: 498875.2221939736, tolerance: 483.02647943236707\n",
      "  positive)\n",
      "/home/traveller/.local/lib/python3.6/site-packages/sklearn/linear_model/coordinate_descent.py:475: ConvergenceWarning: Objective did not converge. You might want to increase the number of iterations. Duality gap: 616133.6316322719, tolerance: 483.02647943236707\n",
      "  positive)\n",
      "/home/traveller/.local/lib/python3.6/site-packages/sklearn/linear_model/coordinate_descent.py:475: ConvergenceWarning: Objective did not converge. You might want to increase the number of iterations. Duality gap: 610727.3259644158, tolerance: 483.02647943236707\n",
      "  positive)\n",
      "/home/traveller/.local/lib/python3.6/site-packages/sklearn/linear_model/coordinate_descent.py:475: ConvergenceWarning: Objective did not converge. You might want to increase the number of iterations. Duality gap: 601247.3906070106, tolerance: 483.02647943236707\n",
      "  positive)\n",
      "/home/traveller/.local/lib/python3.6/site-packages/sklearn/linear_model/coordinate_descent.py:475: ConvergenceWarning: Objective did not converge. You might want to increase the number of iterations. Duality gap: 591877.5581341807, tolerance: 483.02647943236707\n",
      "  positive)\n",
      "/home/traveller/.local/lib/python3.6/site-packages/sklearn/linear_model/coordinate_descent.py:475: ConvergenceWarning: Objective did not converge. You might want to increase the number of iterations. Duality gap: 561922.0134975931, tolerance: 483.02647943236707\n",
      "  positive)\n",
      "/home/traveller/.local/lib/python3.6/site-packages/sklearn/linear_model/coordinate_descent.py:475: ConvergenceWarning: Objective did not converge. You might want to increase the number of iterations. Duality gap: 691249.0528850433, tolerance: 483.02647943236707\n",
      "  positive)\n",
      "/home/traveller/.local/lib/python3.6/site-packages/sklearn/linear_model/coordinate_descent.py:475: ConvergenceWarning: Objective did not converge. You might want to increase the number of iterations. Duality gap: 666538.9658499152, tolerance: 483.02647943236707\n",
      "  positive)\n",
      "/home/traveller/.local/lib/python3.6/site-packages/sklearn/linear_model/coordinate_descent.py:475: ConvergenceWarning: Objective did not converge. You might want to increase the number of iterations. Duality gap: 628454.194527273, tolerance: 483.02647943236707\n",
      "  positive)\n",
      "/home/traveller/.local/lib/python3.6/site-packages/sklearn/linear_model/coordinate_descent.py:475: ConvergenceWarning: Objective did not converge. You might want to increase the number of iterations. Duality gap: 587546.8177746213, tolerance: 483.02647943236707\n",
      "  positive)\n",
      "/home/traveller/.local/lib/python3.6/site-packages/sklearn/linear_model/coordinate_descent.py:475: ConvergenceWarning: Objective did not converge. You might want to increase the number of iterations. Duality gap: 541060.3418540346, tolerance: 483.02647943236707\n",
      "  positive)\n",
      "/home/traveller/.local/lib/python3.6/site-packages/sklearn/linear_model/coordinate_descent.py:475: ConvergenceWarning: Objective did not converge. You might want to increase the number of iterations. Duality gap: 701577.5661235622, tolerance: 483.02647943236707\n",
      "  positive)\n",
      "/home/traveller/.local/lib/python3.6/site-packages/sklearn/linear_model/coordinate_descent.py:475: ConvergenceWarning: Objective did not converge. You might want to increase the number of iterations. Duality gap: 524849.5149742368, tolerance: 483.02647943236707\n",
      "  positive)\n",
      "/home/traveller/.local/lib/python3.6/site-packages/sklearn/linear_model/coordinate_descent.py:475: ConvergenceWarning: Objective did not converge. You might want to increase the number of iterations. Duality gap: 327454.7117598601, tolerance: 483.02647943236707\n",
      "  positive)\n",
      "/home/traveller/.local/lib/python3.6/site-packages/sklearn/linear_model/coordinate_descent.py:475: ConvergenceWarning: Objective did not converge. You might want to increase the number of iterations. Duality gap: 175524.3548409997, tolerance: 483.02647943236707\n",
      "  positive)\n",
      "/home/traveller/.local/lib/python3.6/site-packages/sklearn/linear_model/coordinate_descent.py:475: ConvergenceWarning: Objective did not converge. You might want to increase the number of iterations. Duality gap: 14349.838587125996, tolerance: 483.02647943236707\n",
      "  positive)\n",
      "/home/traveller/.local/lib/python3.6/site-packages/sklearn/linear_model/coordinate_descent.py:475: ConvergenceWarning: Objective did not converge. You might want to increase the number of iterations. Duality gap: 168934.4495941028, tolerance: 483.02647943236707\n",
      "  positive)\n",
      "/home/traveller/.local/lib/python3.6/site-packages/sklearn/linear_model/coordinate_descent.py:475: ConvergenceWarning: Objective did not converge. You might want to increase the number of iterations. Duality gap: 11075.126086892327, tolerance: 483.02647943236707\n",
      "  positive)\n",
      "/home/traveller/.local/lib/python3.6/site-packages/sklearn/linear_model/coordinate_descent.py:475: ConvergenceWarning: Objective did not converge. You might want to increase the number of iterations. Duality gap: 2820.89490235853, tolerance: 483.02647943236707\n",
      "  positive)\n",
      "/home/traveller/.local/lib/python3.6/site-packages/sklearn/linear_model/coordinate_descent.py:475: ConvergenceWarning: Objective did not converge. You might want to increase the number of iterations. Duality gap: 1236.3288156439085, tolerance: 483.02647943236707\n",
      "  positive)\n",
      "/home/traveller/.local/lib/python3.6/site-packages/sklearn/linear_model/coordinate_descent.py:475: ConvergenceWarning: Objective did not converge. You might want to increase the number of iterations. Duality gap: 1278.1474711319897, tolerance: 483.02647943236707\n",
      "  positive)\n"
     ]
    }
   ],
   "source": [
    "params = ParameterGrid({\"alpha\":[0.001, 0.01, 0.1, 1, 10, 100, 1000, 10000], \"l1_ratio\":[0.1, 0.25, 0.5, 0.75, 1.]})\n",
    "errors = []\n",
    "\n",
    "for param in params:\n",
    "    lmodel = ElasticNet(alpha=param[\"alpha\"], l1_ratio=param[\"l1_ratio\"], random_state=RS)\n",
    "    lmodel.fit(tr[FCOLS], tr[TARGET])\n",
    "\n",
    "    ltr_preds = pd.Series(lmodel.predict(tr[FCOLS]), index=tr.index)\n",
    "    lcv_preds = pd.Series(lmodel.predict(cv[FCOLS]), index=cv.index)\n",
    "\n",
    "    cv_mape = mape(cv[TARGET], lcv_preds)\n",
    "    errors.append({\"mape\":cv_mape, \"alpha\":param[\"alpha\"], \"l1_ratio\":param[\"l1_ratio\"]})\n",
    "\n",
    "errors = pd.DataFrame.from_records(errors)"
   ]
  },
  {
   "cell_type": "code",
   "execution_count": 161,
   "metadata": {
    "ExecuteTime": {
     "end_time": "2019-10-14T03:12:03.050607Z",
     "start_time": "2019-10-14T03:12:03.025130Z"
    }
   },
   "outputs": [
    {
     "data": {
      "text/plain": [
       "alpha       1.000000\n",
       "l1_ratio    0.100000\n",
       "mape        0.173805\n",
       "Name: 15, dtype: float64"
      ]
     },
     "execution_count": 161,
     "metadata": {},
     "output_type": "execute_result"
    }
   ],
   "source": [
    "errors.iloc[errors[\"mape\"].idxmin()]"
   ]
  },
  {
   "cell_type": "code",
   "execution_count": 162,
   "metadata": {
    "ExecuteTime": {
     "end_time": "2019-10-14T03:12:03.208290Z",
     "start_time": "2019-10-14T03:12:03.060354Z"
    }
   },
   "outputs": [
    {
     "name": "stderr",
     "output_type": "stream",
     "text": [
      "/home/traveller/.local/lib/python3.6/site-packages/sklearn/linear_model/coordinate_descent.py:475: ConvergenceWarning: Objective did not converge. You might want to increase the number of iterations. Duality gap: 691249.0528850433, tolerance: 483.02647943236707\n",
      "  positive)\n"
     ]
    },
    {
     "data": {
      "text/plain": [
       "ElasticNet(alpha=1, copy_X=True, fit_intercept=True, l1_ratio=0.1,\n",
       "           max_iter=1000, normalize=False, positive=False, precompute=False,\n",
       "           random_state=289475, selection='cyclic', tol=0.0001,\n",
       "           warm_start=False)"
      ]
     },
     "execution_count": 162,
     "metadata": {},
     "output_type": "execute_result"
    }
   ],
   "source": [
    "model = ElasticNet(alpha=1, l1_ratio=0.1, random_state=RS)\n",
    "model.fit(tr[FCOLS].values, tr[TARGET].values)"
   ]
  },
  {
   "cell_type": "code",
   "execution_count": 163,
   "metadata": {
    "ExecuteTime": {
     "end_time": "2019-10-14T03:12:03.992210Z",
     "start_time": "2019-10-14T03:12:03.225871Z"
    }
   },
   "outputs": [
    {
     "name": "stdout",
     "output_type": "stream",
     "text": [
      "TR performance: 6.3%\n",
      "CV performance: 17.4%\n"
     ]
    },
    {
     "data": {
      "image/png": "[encoded data removed]",
      "text/plain": [
       "<Figure size 432x432 with 1 Axes>"
      ]
     },
     "metadata": {
      "needs_background": "light"
     },
     "output_type": "display_data"
    }
   ],
   "source": [
    "tr_preds = pd.Series(model.predict(tr[FCOLS]), index=tr.index)\n",
    "cv_preds = pd.Series(model.predict(cv[FCOLS]), index=cv.index)\n",
    "\n",
    "print(f\"TR performance: {100 * mape(tr[TARGET], tr_preds):0.1f}%\")\n",
    "print(f\"CV performance: {100 * mape(cv[TARGET], cv_preds):0.1f}%\")\n",
    "\n",
    "plt.figure()\n",
    "tr[TARGET].plot(ax=plt.gca(), label=\"pet prices\");\n",
    "cv[TARGET].plot(ax=plt.gca(), label=\"pet prices\");\n",
    "tr_preds.plot(ax=plt.gca(), label=\"TR\");\n",
    "cv_preds.plot(ax=plt.gca(), label=\"CV\");\n",
    "plt.legend(loc=0);"
   ]
  },
  {
   "cell_type": "markdown",
   "metadata": {
    "ExecuteTime": {
     "end_time": "2019-09-03T08:19:57.410988Z",
     "start_time": "2019-09-03T08:19:57.394327Z"
    }
   },
   "source": [
    "Считаем предсказания для тестового набора:"
   ]
  },
  {
   "cell_type": "code",
   "execution_count": 164,
   "metadata": {
    "ExecuteTime": {
     "end_time": "2019-10-14T03:12:04.019367Z",
     "start_time": "2019-10-14T03:12:03.995856Z"
    }
   },
   "outputs": [],
   "source": [
    "ts_preds = pd.DataFrame(model.predict(ts[FCOLS]), columns=[\"pet\"], index=ts.index)\n",
    "ts_preds.loc[test_target.index].to_csv(DATA_DIR.joinpath(\"pet_linear_baseline.csv\"))"
   ]
  },
  {
   "cell_type": "code",
   "execution_count": null,
   "metadata": {},
   "outputs": [],
   "source": []
  }
 ],
 "metadata": {
  "kernelspec": {
   "display_name": "Python 3",
   "language": "python",
   "name": "python3"
  },
  "language_info": {
   "codemirror_mode": {
    "name": "ipython",
    "version": 3
   },
   "file_extension": ".py",
   "mimetype": "text/x-python",
   "name": "python",
   "nbconvert_exporter": "python",
   "pygments_lexer": "ipython3",
   "version": "3.6.5"
  },
  "toc": {
   "base_numbering": 1,
   "nav_menu": {},
   "number_sections": true,
   "sideBar": true,
   "skip_h1_title": false,
   "title_cell": "Table of Contents",
   "title_sidebar": "Contents",
   "toc_cell": false,
   "toc_position": {},
   "toc_section_display": true,
   "toc_window_display": false
  }
 },
 "nbformat": 4,
 "nbformat_minor": 2
}
