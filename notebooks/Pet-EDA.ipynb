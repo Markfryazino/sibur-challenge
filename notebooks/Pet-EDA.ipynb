{
 "cells": [
  {
   "cell_type": "markdown",
   "metadata": {},
   "source": [
    "# Делаем короче EDA цены полиэтилентерефталата #"
   ]
  },
  {
   "cell_type": "code",
   "execution_count": 1,
   "metadata": {},
   "outputs": [],
   "source": [
    "import numpy as np\n",
    "import pandas as pd\n",
    "import seaborn as sns\n",
    "import matplotlib.pyplot as plt\n",
    "sns.set()"
   ]
  },
  {
   "cell_type": "markdown",
   "metadata": {},
   "source": [
    "Загружаем тут все"
   ]
  },
  {
   "cell_type": "code",
   "execution_count": 2,
   "metadata": {},
   "outputs": [],
   "source": [
    "import pathlib\n",
    "\n",
    "DATA_DIR = pathlib.Path(\"../data/\")\n",
    "train_target = pd.read_csv(DATA_DIR.joinpath(\"pet_target_train.csv\"), index_col=\"date\", parse_dates=[\"date\"])\n",
    "test_target = pd.read_csv(DATA_DIR.joinpath(\"pet_test_timestamps.csv\"), index_col=\"date\", parse_dates=[\"date\"])\n",
    "daily = pd.read_csv(DATA_DIR.joinpath(\"pet_daily.csv\"), index_col=\"date\", parse_dates=[\"date\"])\n",
    "weekly = pd.read_csv(DATA_DIR.joinpath(\"pet_weekly.csv\"), index_col=\"date\", parse_dates=[\"date\"])"
   ]
  },
  {
   "cell_type": "markdown",
   "metadata": {},
   "source": [
    "Итак, что у нас тут?"
   ]
  },
  {
   "cell_type": "markdown",
   "metadata": {},
   "source": [
    "## train_target ##"
   ]
  },
  {
   "cell_type": "code",
   "execution_count": 3,
   "metadata": {},
   "outputs": [
    {
     "name": "stdout",
     "output_type": "stream",
     "text": [
      "Размер:  (139, 1)\n"
     ]
    },
    {
     "data": {
      "text/html": [
       "<div>\n",
       "<style scoped>\n",
       "    .dataframe tbody tr th:only-of-type {\n",
       "        vertical-align: middle;\n",
       "    }\n",
       "\n",
       "    .dataframe tbody tr th {\n",
       "        vertical-align: top;\n",
       "    }\n",
       "\n",
       "    .dataframe thead th {\n",
       "        text-align: right;\n",
       "    }\n",
       "</style>\n",
       "<table border=\"1\" class=\"dataframe\">\n",
       "  <thead>\n",
       "    <tr style=\"text-align: right;\">\n",
       "      <th></th>\n",
       "      <th>pet</th>\n",
       "    </tr>\n",
       "    <tr>\n",
       "      <th>date</th>\n",
       "      <th></th>\n",
       "    </tr>\n",
       "  </thead>\n",
       "  <tbody>\n",
       "    <tr>\n",
       "      <td>2004-06-01</td>\n",
       "      <td>961.25</td>\n",
       "    </tr>\n",
       "    <tr>\n",
       "      <td>2004-07-01</td>\n",
       "      <td>962.00</td>\n",
       "    </tr>\n",
       "    <tr>\n",
       "      <td>2004-08-01</td>\n",
       "      <td>1053.75</td>\n",
       "    </tr>\n",
       "  </tbody>\n",
       "</table>\n",
       "</div>"
      ],
      "text/plain": [
       "                pet\n",
       "date               \n",
       "2004-06-01   961.25\n",
       "2004-07-01   962.00\n",
       "2004-08-01  1053.75"
      ]
     },
     "execution_count": 3,
     "metadata": {},
     "output_type": "execute_result"
    }
   ],
   "source": [
    "print('Размер: ', train_target.shape)\n",
    "train_target.head(3)"
   ]
  },
  {
   "cell_type": "code",
   "execution_count": 4,
   "metadata": {},
   "outputs": [
    {
     "data": {
      "text/plain": [
       "count                     139\n",
       "unique                    139\n",
       "top       2009-09-01 00:00:00\n",
       "freq                        1\n",
       "first     2004-06-01 00:00:00\n",
       "last      2015-12-01 00:00:00\n",
       "Name: date, dtype: object"
      ]
     },
     "execution_count": 4,
     "metadata": {},
     "output_type": "execute_result"
    }
   ],
   "source": [
    "train_idx = pd.Series(train_target.index)\n",
    "train_idx.describe()"
   ]
  },
  {
   "cell_type": "code",
   "execution_count": 5,
   "metadata": {},
   "outputs": [
    {
     "name": "stdout",
     "output_type": "stream",
     "text": [
      "Месяцев между последним значением и первым включительно:  139\n"
     ]
    }
   ],
   "source": [
    "first, last = train_idx.min(), train_idx.max()\n",
    "diff = 12 * (last.year - first.year) + (last.month - first.month) + 1\n",
    "print('Месяцев между последним значением и первым включительно: ', diff)"
   ]
  },
  {
   "cell_type": "code",
   "execution_count": 6,
   "metadata": {},
   "outputs": [
    {
     "data": {
      "text/plain": [
       "<matplotlib.axes._subplots.AxesSubplot at 0x7faf3054e630>"
      ]
     },
     "execution_count": 6,
     "metadata": {},
     "output_type": "execute_result"
    },
    {
     "data": {
      "image/png": "[encoded data removed]",
      "text/plain": [
       "<Figure size 432x288 with 1 Axes>"
      ]
     },
     "metadata": {
      "needs_background": "light"
     },
     "output_type": "display_data"
    }
   ],
   "source": [
    "train_target.plot()"
   ]
  },
  {
   "cell_type": "markdown",
   "metadata": {},
   "source": [
    "Короче, train_target это ответы нашего тренировочного сета, причем они все идут ровно через один месяц, с июня 2006 года до декабря 2015. На графике, кстати, очень хорошо виден кризис 2008 года.\n",
    "А еще крайне забавно то, что размер выборки какой-то никакой и составляет только 139 значений. Так что нейросеть сюда скорее всего не засунешь."
   ]
  },
  {
   "cell_type": "markdown",
   "metadata": {},
   "source": [
    "## test_target ##"
   ]
  },
  {
   "cell_type": "code",
   "execution_count": 7,
   "metadata": {},
   "outputs": [
    {
     "name": "stdout",
     "output_type": "stream",
     "text": [
      "Размер:  (43, 0)\n"
     ]
    },
    {
     "data": {
      "text/html": [
       "<div>\n",
       "<style scoped>\n",
       "    .dataframe tbody tr th:only-of-type {\n",
       "        vertical-align: middle;\n",
       "    }\n",
       "\n",
       "    .dataframe tbody tr th {\n",
       "        vertical-align: top;\n",
       "    }\n",
       "\n",
       "    .dataframe thead th {\n",
       "        text-align: right;\n",
       "    }\n",
       "</style>\n",
       "<table border=\"1\" class=\"dataframe\">\n",
       "  <thead>\n",
       "    <tr style=\"text-align: right;\">\n",
       "      <th></th>\n",
       "    </tr>\n",
       "    <tr>\n",
       "      <th>date</th>\n",
       "    </tr>\n",
       "  </thead>\n",
       "  <tbody>\n",
       "    <tr>\n",
       "      <td>2016-01-01</td>\n",
       "    </tr>\n",
       "    <tr>\n",
       "      <td>2016-02-01</td>\n",
       "    </tr>\n",
       "    <tr>\n",
       "      <td>2016-03-01</td>\n",
       "    </tr>\n",
       "  </tbody>\n",
       "</table>\n",
       "</div>"
      ],
      "text/plain": [
       "Empty DataFrame\n",
       "Columns: []\n",
       "Index: [2016-01-01 00:00:00, 2016-02-01 00:00:00, 2016-03-01 00:00:00]"
      ]
     },
     "execution_count": 7,
     "metadata": {},
     "output_type": "execute_result"
    }
   ],
   "source": [
    "print('Размер: ', test_target.shape)\n",
    "test_target.head(3)"
   ]
  },
  {
   "cell_type": "code",
   "execution_count": 8,
   "metadata": {},
   "outputs": [
    {
     "data": {
      "text/plain": [
       "count                      43\n",
       "unique                     43\n",
       "top       2018-10-01 00:00:00\n",
       "freq                        1\n",
       "first     2016-01-01 00:00:00\n",
       "last      2019-07-01 00:00:00\n",
       "Name: date, dtype: object"
      ]
     },
     "execution_count": 8,
     "metadata": {},
     "output_type": "execute_result"
    }
   ],
   "source": [
    "test_idx = pd.Series(test_target.index)\n",
    "test_idx.describe()"
   ]
  },
  {
   "cell_type": "code",
   "execution_count": 9,
   "metadata": {},
   "outputs": [
    {
     "name": "stdout",
     "output_type": "stream",
     "text": [
      "Месяцев между последним значением и первым включительно:  43\n"
     ]
    }
   ],
   "source": [
    "first, last = test_idx.min(), test_idx.max()\n",
    "diff = 12 * (last.year - first.year) + (last.month - first.month) + 1\n",
    "print('Месяцев между последним значением и первым включительно: ', diff)"
   ]
  },
  {
   "cell_type": "markdown",
   "metadata": {},
   "source": [
    "Тут тоже самое, надо предсказать нам значения для каждого месяца с января 2016 по июль 2019. Всего надо выдать вообще только 43 значения."
   ]
  },
  {
   "cell_type": "markdown",
   "metadata": {},
   "source": [
    "## daily ##\n",
    "Вот тут уже интереснее."
   ]
  },
  {
   "cell_type": "code",
   "execution_count": 10,
   "metadata": {},
   "outputs": [
    {
     "name": "stdout",
     "output_type": "stream",
     "text": [
      "Размер:  (4221, 8)\n"
     ]
    },
    {
     "data": {
      "text/html": [
       "<div>\n",
       "<style scoped>\n",
       "    .dataframe tbody tr th:only-of-type {\n",
       "        vertical-align: middle;\n",
       "    }\n",
       "\n",
       "    .dataframe tbody tr th {\n",
       "        vertical-align: top;\n",
       "    }\n",
       "\n",
       "    .dataframe thead th {\n",
       "        text-align: right;\n",
       "    }\n",
       "</style>\n",
       "<table border=\"1\" class=\"dataframe\">\n",
       "  <thead>\n",
       "    <tr style=\"text-align: right;\">\n",
       "      <th></th>\n",
       "      <th>brent_close</th>\n",
       "      <th>brent_open</th>\n",
       "      <th>brent_max</th>\n",
       "      <th>brent_min</th>\n",
       "      <th>USDCNY_close</th>\n",
       "      <th>USDCNY_open</th>\n",
       "      <th>USDCNY_max</th>\n",
       "      <th>USDCNY_min</th>\n",
       "    </tr>\n",
       "    <tr>\n",
       "      <th>date</th>\n",
       "      <th></th>\n",
       "      <th></th>\n",
       "      <th></th>\n",
       "      <th></th>\n",
       "      <th></th>\n",
       "      <th></th>\n",
       "      <th></th>\n",
       "      <th></th>\n",
       "    </tr>\n",
       "  </thead>\n",
       "  <tbody>\n",
       "    <tr>\n",
       "      <td>2002-07-01</td>\n",
       "      <td>25.64</td>\n",
       "      <td>25.50</td>\n",
       "      <td>25.72</td>\n",
       "      <td>25.39</td>\n",
       "      <td>8.2770</td>\n",
       "      <td>8.2770</td>\n",
       "      <td>8.2770</td>\n",
       "      <td>8.2770</td>\n",
       "    </tr>\n",
       "    <tr>\n",
       "      <td>2002-07-02</td>\n",
       "      <td>25.75</td>\n",
       "      <td>25.61</td>\n",
       "      <td>25.97</td>\n",
       "      <td>25.60</td>\n",
       "      <td>8.2769</td>\n",
       "      <td>8.2769</td>\n",
       "      <td>8.2769</td>\n",
       "      <td>8.2769</td>\n",
       "    </tr>\n",
       "    <tr>\n",
       "      <td>2002-07-03</td>\n",
       "      <td>25.84</td>\n",
       "      <td>25.73</td>\n",
       "      <td>25.96</td>\n",
       "      <td>25.52</td>\n",
       "      <td>8.2768</td>\n",
       "      <td>8.2768</td>\n",
       "      <td>8.2768</td>\n",
       "      <td>8.2768</td>\n",
       "    </tr>\n",
       "  </tbody>\n",
       "</table>\n",
       "</div>"
      ],
      "text/plain": [
       "            brent_close  brent_open  brent_max  brent_min  USDCNY_close  \\\n",
       "date                                                                      \n",
       "2002-07-01        25.64       25.50      25.72      25.39        8.2770   \n",
       "2002-07-02        25.75       25.61      25.97      25.60        8.2769   \n",
       "2002-07-03        25.84       25.73      25.96      25.52        8.2768   \n",
       "\n",
       "            USDCNY_open  USDCNY_max  USDCNY_min  \n",
       "date                                             \n",
       "2002-07-01       8.2770      8.2770      8.2770  \n",
       "2002-07-02       8.2769      8.2769      8.2769  \n",
       "2002-07-03       8.2768      8.2768      8.2768  "
      ]
     },
     "execution_count": 10,
     "metadata": {},
     "output_type": "execute_result"
    }
   ],
   "source": [
    "print('Размер: ', daily.shape)\n",
    "daily.head(3)"
   ]
  },
  {
   "cell_type": "code",
   "execution_count": 11,
   "metadata": {},
   "outputs": [
    {
     "data": {
      "text/plain": [
       "count                    4221\n",
       "unique                   4221\n",
       "top       2007-09-10 00:00:00\n",
       "freq                        1\n",
       "first     2002-07-01 00:00:00\n",
       "last      2019-06-28 00:00:00\n",
       "Name: date, dtype: object"
      ]
     },
     "execution_count": 11,
     "metadata": {},
     "output_type": "execute_result"
    }
   ],
   "source": [
    "daily_idx = pd.Series(daily.index)\n",
    "daily_idx.describe()"
   ]
  },
  {
   "cell_type": "code",
   "execution_count": 12,
   "metadata": {},
   "outputs": [
    {
     "name": "stdout",
     "output_type": "stream",
     "text": [
      "Дней между последним значением и первым включительно:  6206\n"
     ]
    }
   ],
   "source": [
    "first, last = daily_idx.min(), daily_idx.max()\n",
    "diff = (last - first).days\n",
    "print('Дней между последним значением и первым включительно: ', diff)"
   ]
  },
  {
   "cell_type": "markdown",
   "metadata": {},
   "source": [
    "Ага, значит, здесь не все дни - и это очень не круто. То есть, придется как-то с этим справляться.\n",
    "\n",
    "Теперь к колонкам - с ними все понятно в принципе. Brent - это марка нефти, USDCNY - это курс юаня к доллару. Close, open, min и max - цена на момент закрытия/открытия торгов, минимальная и максимальная."
   ]
  },
  {
   "cell_type": "code",
   "execution_count": 13,
   "metadata": {},
   "outputs": [
    {
     "data": {
      "text/plain": [
       "<matplotlib.axes._subplots.AxesSubplot at 0x7faf301b5320>"
      ]
     },
     "execution_count": 13,
     "metadata": {},
     "output_type": "execute_result"
    },
    {
     "data": {
      "image/png": "[encoded data removed]",
      "text/plain": [
       "<Figure size 432x288 with 2 Axes>"
      ]
     },
     "metadata": {
      "needs_background": "light"
     },
     "output_type": "display_data"
    }
   ],
   "source": [
    "fig = plt.figure()\n",
    "ax1 = fig.add_subplot(211)\n",
    "ax2 = fig.add_subplot(212)\n",
    "plt.tight_layout()\n",
    "sns.lineplot(x=daily.index, y=daily['brent_close'], ax=ax1)\n",
    "sns.lineplot(x=daily.index, y=daily['USDCNY_close'], ax=ax2)"
   ]
  },
  {
   "cell_type": "markdown",
   "metadata": {},
   "source": [
    "Ну вы поняли.\n",
    "\n",
    "Че там по нанам?"
   ]
  },
  {
   "cell_type": "code",
   "execution_count": 14,
   "metadata": {},
   "outputs": [
    {
     "data": {
      "text/plain": [
       "False"
      ]
     },
     "execution_count": 14,
     "metadata": {},
     "output_type": "execute_result"
    }
   ],
   "source": [
    "daily.isna().any().any()"
   ]
  },
  {
   "cell_type": "markdown",
   "metadata": {},
   "source": [
    "Нет нанов! Совсем!"
   ]
  },
  {
   "cell_type": "markdown",
   "metadata": {},
   "source": [
    "## weekly ##"
   ]
  },
  {
   "cell_type": "code",
   "execution_count": 15,
   "metadata": {},
   "outputs": [
    {
     "name": "stdout",
     "output_type": "stream",
     "text": [
      "Размер:  (799, 6)\n"
     ]
    },
    {
     "data": {
      "text/html": [
       "<div>\n",
       "<style scoped>\n",
       "    .dataframe tbody tr th:only-of-type {\n",
       "        vertical-align: middle;\n",
       "    }\n",
       "\n",
       "    .dataframe tbody tr th {\n",
       "        vertical-align: top;\n",
       "    }\n",
       "\n",
       "    .dataframe thead th {\n",
       "        text-align: right;\n",
       "    }\n",
       "</style>\n",
       "<table border=\"1\" class=\"dataframe\">\n",
       "  <thead>\n",
       "    <tr style=\"text-align: right;\">\n",
       "      <th></th>\n",
       "      <th>paraxylene_CHN_USD</th>\n",
       "      <th>paraxylene_RT_USD</th>\n",
       "      <th>paraxylene_SEA_USD</th>\n",
       "      <th>pta_NEA_USD</th>\n",
       "      <th>ethylene_glycol_EU_EUR</th>\n",
       "      <th>ethylene_glycol_CHN_USD</th>\n",
       "    </tr>\n",
       "    <tr>\n",
       "      <th>date</th>\n",
       "      <th></th>\n",
       "      <th></th>\n",
       "      <th></th>\n",
       "      <th></th>\n",
       "      <th></th>\n",
       "      <th></th>\n",
       "    </tr>\n",
       "  </thead>\n",
       "  <tbody>\n",
       "    <tr>\n",
       "      <td>2019-07-19</td>\n",
       "      <td>853.0</td>\n",
       "      <td>760.0</td>\n",
       "      <td>843.0</td>\n",
       "      <td>748.5</td>\n",
       "      <td>490.0</td>\n",
       "      <td>532.5</td>\n",
       "    </tr>\n",
       "    <tr>\n",
       "      <td>2019-07-26</td>\n",
       "      <td>848.0</td>\n",
       "      <td>750.0</td>\n",
       "      <td>838.0</td>\n",
       "      <td>714.5</td>\n",
       "      <td>480.0</td>\n",
       "      <td>541.5</td>\n",
       "    </tr>\n",
       "    <tr>\n",
       "      <td>2019-08-02</td>\n",
       "      <td>819.0</td>\n",
       "      <td>745.0</td>\n",
       "      <td>809.0</td>\n",
       "      <td>701.5</td>\n",
       "      <td>475.0</td>\n",
       "      <td>547.5</td>\n",
       "    </tr>\n",
       "    <tr>\n",
       "      <td>2019-08-09</td>\n",
       "      <td>794.0</td>\n",
       "      <td>700.0</td>\n",
       "      <td>784.0</td>\n",
       "      <td>677.0</td>\n",
       "      <td>465.0</td>\n",
       "      <td>517.5</td>\n",
       "    </tr>\n",
       "    <tr>\n",
       "      <td>2019-08-16</td>\n",
       "      <td>790.0</td>\n",
       "      <td>705.0</td>\n",
       "      <td>780.0</td>\n",
       "      <td>674.0</td>\n",
       "      <td>462.5</td>\n",
       "      <td>531.0</td>\n",
       "    </tr>\n",
       "  </tbody>\n",
       "</table>\n",
       "</div>"
      ],
      "text/plain": [
       "            paraxylene_CHN_USD  paraxylene_RT_USD  paraxylene_SEA_USD  \\\n",
       "date                                                                    \n",
       "2019-07-19               853.0              760.0               843.0   \n",
       "2019-07-26               848.0              750.0               838.0   \n",
       "2019-08-02               819.0              745.0               809.0   \n",
       "2019-08-09               794.0              700.0               784.0   \n",
       "2019-08-16               790.0              705.0               780.0   \n",
       "\n",
       "            pta_NEA_USD  ethylene_glycol_EU_EUR  ethylene_glycol_CHN_USD  \n",
       "date                                                                      \n",
       "2019-07-19        748.5                   490.0                    532.5  \n",
       "2019-07-26        714.5                   480.0                    541.5  \n",
       "2019-08-02        701.5                   475.0                    547.5  \n",
       "2019-08-09        677.0                   465.0                    517.5  \n",
       "2019-08-16        674.0                   462.5                    531.0  "
      ]
     },
     "execution_count": 15,
     "metadata": {},
     "output_type": "execute_result"
    }
   ],
   "source": [
    "print('Размер: ', weekly.shape)\n",
    "weekly.tail()"
   ]
  },
  {
   "cell_type": "code",
   "execution_count": 18,
   "metadata": {},
   "outputs": [
    {
     "data": {
      "text/plain": [
       "paraxylene_CHN_USD          55\n",
       "paraxylene_RT_USD           17\n",
       "paraxylene_SEA_USD          21\n",
       "pta_NEA_USD                507\n",
       "ethylene_glycol_EU_EUR      17\n",
       "ethylene_glycol_CHN_USD     32\n",
       "dtype: int64"
      ]
     },
     "execution_count": 18,
     "metadata": {},
     "output_type": "execute_result"
    }
   ],
   "source": [
    "weekly.isna().sum()"
   ]
  },
  {
   "cell_type": "markdown",
   "metadata": {},
   "source": [
    "Ну что можно сказать...\n",
    "\n",
    "Во-первых, наны есть, причем много, у pta_NEA_USD больше половины.\n",
    "\n",
    "Во-вторых, что по колонкам: CHN, RT, SEA, NEA и EU - это различные регионы (Китай, республика Татарстан (шутка, я хз что это), South-East Asia, North-East Asia и Евросоюз). Paraxylene, pta и ethylene_glycol - это сопутствующие химические соединения.\n",
    "\n",
    "Осталось понять, за что отвечает дата - это конец нашего недельного отсчета, или начало, или что вообще? Это пятница, так что вообще непонятно.\n",
    "\n",
    "В бейзлайне они вообще не парятся по этому поводу и просто сэмплят значения через forward filling (то есть получают таблицу, где каждая строка - это день, причем у всех строк с пятницы по четверг одинаковые значения, как в пятницу). Думаю, мы будем делать также, либо тоже не парится и использовать любые данные, если дата в тех пределах, которые мы можем использовать."
   ]
  }
 ],
 "metadata": {
  "kernelspec": {
   "display_name": "Python 3",
   "language": "python",
   "name": "python3"
  },
  "language_info": {
   "codemirror_mode": {
    "name": "ipython",
    "version": 3
   },
   "file_extension": ".py",
   "mimetype": "text/x-python",
   "name": "python",
   "nbconvert_exporter": "python",
   "pygments_lexer": "ipython3",
   "version": "3.7.3"
  }
 },
 "nbformat": 4,
 "nbformat_minor": 2
}
